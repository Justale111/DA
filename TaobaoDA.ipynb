{
 "cells": [
  {
   "cell_type": "code",
   "execution_count": 1,
   "id": "6e65ac34",
   "metadata": {},
   "outputs": [],
   "source": [
    "import pandas as pd\n",
    "import matplotlib.pyplot as plt"
   ]
  },
  {
   "cell_type": "markdown",
   "id": "30de798b",
   "metadata": {},
   "source": [
    "# 1.读取数据"
   ]
  },
  {
   "cell_type": "code",
   "execution_count": 2,
   "id": "45d9ee8c",
   "metadata": {},
   "outputs": [
    {
     "name": "stdout",
     "output_type": "stream",
     "text": [
      "            user_id    item_id  behavior_type  item_category           time\n",
      "0          98047837  232431562              1           4245  2014-12-06 02\n",
      "1          97726136  383583590              1           5894  2014-12-09 20\n",
      "2          98607707   64749712              1           2883  2014-12-18 11\n",
      "3          98662432  320593836              1           6562  2014-12-06 10\n",
      "4          98145908  290208520              1          13926  2014-12-16 21\n",
      "...             ...        ...            ...            ...            ...\n",
      "12256901   93812622  378365755              1             11  2014-12-13 21\n",
      "12256902   93812622  177724753              1          12311  2014-12-14 21\n",
      "12256903   93812622  234391443              1           8765  2014-12-11 16\n",
      "12256904   93812622   26452000              1           7951  2014-12-08 22\n",
      "12256905  108404535  362699797              1           9847  2014-12-03 19\n",
      "\n",
      "[12256906 rows x 5 columns]\n"
     ]
    }
   ],
   "source": [
    "datas = pd.read_csv('user_action.csv')\n",
    "print(datas)"
   ]
  },
  {
   "cell_type": "markdown",
   "id": "3ab23a7b",
   "metadata": {},
   "source": [
    "**数据共有5个字段，分别是user_id（用户id）、item_id（商品id）、behavior_type（用户行为）、item_category（商品类别）、time（操作时间）。</br>记录共有12256906条。**"
   ]
  },
  {
   "cell_type": "code",
   "execution_count": 3,
   "id": "d6f73fb7",
   "metadata": {},
   "outputs": [
    {
     "name": "stdout",
     "output_type": "stream",
     "text": [
      "用户数量 10000\n",
      "商品数量 2876947\n",
      "商品类别数量 8916\n"
     ]
    }
   ],
   "source": [
    "print('用户数量',len(set(datas['user_id'])))\n",
    "print('商品数量',len(set(datas['item_id'])))\n",
    "print('商品类别数量',len(set(datas['item_category'])))"
   ]
  },
  {
   "cell_type": "markdown",
   "id": "d14e85cc",
   "metadata": {},
   "source": [
    "**可以看出，用户数量为10000，即该数据集表示为1万个用户在淘宝上的1200多万条操作行为记录，其中涉及商品数量有280多万，分布在接近9000个商品类别中**"
   ]
  },
  {
   "cell_type": "markdown",
   "id": "b89bff2f",
   "metadata": {},
   "source": [
    "# 2.数据预处理"
   ]
  },
  {
   "cell_type": "code",
   "execution_count": 4,
   "id": "90dc183f",
   "metadata": {},
   "outputs": [
    {
     "data": {
      "text/plain": [
       "user_id          0\n",
       "item_id          0\n",
       "behavior_type    0\n",
       "item_category    0\n",
       "time             0\n",
       "dtype: int64"
      ]
     },
     "execution_count": 4,
     "metadata": {},
     "output_type": "execute_result"
    }
   ],
   "source": [
    "# 缺省值情况\n",
    "datas.isnull().sum()"
   ]
  },
  {
   "cell_type": "markdown",
   "id": "0c431346",
   "metadata": {},
   "source": [
    "**数据无缺省值，应已事先经过处理，接下来处理字段类型，方便后续处理**"
   ]
  },
  {
   "cell_type": "code",
   "execution_count": 5,
   "id": "229d8804",
   "metadata": {},
   "outputs": [
    {
     "data": {
      "text/plain": [
       "user_id           int64\n",
       "item_id           int64\n",
       "behavior_type     int64\n",
       "item_category     int64\n",
       "time             object\n",
       "dtype: object"
      ]
     },
     "execution_count": 5,
     "metadata": {},
     "output_type": "execute_result"
    }
   ],
   "source": [
    "# 查看字段类型\n",
    "datas.dtypes"
   ]
  },
  {
   "cell_type": "markdown",
   "id": "da6ac6ca",
   "metadata": {},
   "source": [
    "**除time字段外，其他类型为int类型。现在处理time字段，该字段包含年月日以及小时，需将年月日与小时进行分割处理**"
   ]
  },
  {
   "cell_type": "code",
   "execution_count": 6,
   "id": "b4dbdb71",
   "metadata": {},
   "outputs": [],
   "source": [
    "def splitDate(str):\n",
    "    return str.split(' ')[0]\n",
    "def splitHour(str):\n",
    "    return str.split(' ')[1]\n",
    "datas['date'] = datas['time'].map(splitDate)\n",
    "datas['hour'] =  datas['time'].map(splitHour)"
   ]
  },
  {
   "cell_type": "code",
   "execution_count": 7,
   "id": "cb751ead",
   "metadata": {},
   "outputs": [
    {
     "data": {
      "text/html": [
       "<div>\n",
       "<style scoped>\n",
       "    .dataframe tbody tr th:only-of-type {\n",
       "        vertical-align: middle;\n",
       "    }\n",
       "\n",
       "    .dataframe tbody tr th {\n",
       "        vertical-align: top;\n",
       "    }\n",
       "\n",
       "    .dataframe thead th {\n",
       "        text-align: right;\n",
       "    }\n",
       "</style>\n",
       "<table border=\"1\" class=\"dataframe\">\n",
       "  <thead>\n",
       "    <tr style=\"text-align: right;\">\n",
       "      <th></th>\n",
       "      <th>user_id</th>\n",
       "      <th>item_id</th>\n",
       "      <th>behavior_type</th>\n",
       "      <th>item_category</th>\n",
       "      <th>time</th>\n",
       "      <th>date</th>\n",
       "      <th>hour</th>\n",
       "    </tr>\n",
       "  </thead>\n",
       "  <tbody>\n",
       "    <tr>\n",
       "      <th>0</th>\n",
       "      <td>98047837</td>\n",
       "      <td>232431562</td>\n",
       "      <td>1</td>\n",
       "      <td>4245</td>\n",
       "      <td>2014-12-06 02</td>\n",
       "      <td>2014-12-06</td>\n",
       "      <td>02</td>\n",
       "    </tr>\n",
       "    <tr>\n",
       "      <th>1</th>\n",
       "      <td>97726136</td>\n",
       "      <td>383583590</td>\n",
       "      <td>1</td>\n",
       "      <td>5894</td>\n",
       "      <td>2014-12-09 20</td>\n",
       "      <td>2014-12-09</td>\n",
       "      <td>20</td>\n",
       "    </tr>\n",
       "    <tr>\n",
       "      <th>2</th>\n",
       "      <td>98607707</td>\n",
       "      <td>64749712</td>\n",
       "      <td>1</td>\n",
       "      <td>2883</td>\n",
       "      <td>2014-12-18 11</td>\n",
       "      <td>2014-12-18</td>\n",
       "      <td>11</td>\n",
       "    </tr>\n",
       "    <tr>\n",
       "      <th>3</th>\n",
       "      <td>98662432</td>\n",
       "      <td>320593836</td>\n",
       "      <td>1</td>\n",
       "      <td>6562</td>\n",
       "      <td>2014-12-06 10</td>\n",
       "      <td>2014-12-06</td>\n",
       "      <td>10</td>\n",
       "    </tr>\n",
       "    <tr>\n",
       "      <th>4</th>\n",
       "      <td>98145908</td>\n",
       "      <td>290208520</td>\n",
       "      <td>1</td>\n",
       "      <td>13926</td>\n",
       "      <td>2014-12-16 21</td>\n",
       "      <td>2014-12-16</td>\n",
       "      <td>21</td>\n",
       "    </tr>\n",
       "  </tbody>\n",
       "</table>\n",
       "</div>"
      ],
      "text/plain": [
       "    user_id    item_id  behavior_type  item_category           time  \\\n",
       "0  98047837  232431562              1           4245  2014-12-06 02   \n",
       "1  97726136  383583590              1           5894  2014-12-09 20   \n",
       "2  98607707   64749712              1           2883  2014-12-18 11   \n",
       "3  98662432  320593836              1           6562  2014-12-06 10   \n",
       "4  98145908  290208520              1          13926  2014-12-16 21   \n",
       "\n",
       "         date hour  \n",
       "0  2014-12-06   02  \n",
       "1  2014-12-09   20  \n",
       "2  2014-12-18   11  \n",
       "3  2014-12-06   10  \n",
       "4  2014-12-16   21  "
      ]
     },
     "execution_count": 7,
     "metadata": {},
     "output_type": "execute_result"
    }
   ],
   "source": [
    "datas.head()"
   ]
  },
  {
   "cell_type": "code",
   "execution_count": 8,
   "id": "01133448",
   "metadata": {},
   "outputs": [
    {
     "data": {
      "text/plain": [
       "user_id           int64\n",
       "item_id           int64\n",
       "behavior_type     int64\n",
       "item_category     int64\n",
       "time             object\n",
       "date             object\n",
       "hour             object\n",
       "dtype: object"
      ]
     },
     "execution_count": 8,
     "metadata": {},
     "output_type": "execute_result"
    }
   ],
   "source": [
    "datas.dtypes"
   ]
  },
  {
   "cell_type": "markdown",
   "id": "5131851e",
   "metadata": {},
   "source": [
    "**上述操作已将time字段分割成日期（date）字段和小时（hour）字段，但字段类型为object。\n",
    "为方便后续计算处理，需把date字段转换成datetime类型，把hour字段转换成int类型。**"
   ]
  },
  {
   "cell_type": "code",
   "execution_count": 9,
   "id": "14e51728",
   "metadata": {},
   "outputs": [
    {
     "data": {
      "text/plain": [
       "user_id                   int64\n",
       "item_id                   int64\n",
       "behavior_type             int64\n",
       "item_category             int64\n",
       "time                     object\n",
       "date             datetime64[ns]\n",
       "hour                      int64\n",
       "dtype: object"
      ]
     },
     "execution_count": 9,
     "metadata": {},
     "output_type": "execute_result"
    }
   ],
   "source": [
    "datas['hour'] = pd.to_numeric(datas['hour'])\n",
    "datas['date'] = pd.to_datetime(datas['date'])\n",
    "datas.dtypes"
   ]
  },
  {
   "cell_type": "code",
   "execution_count": 10,
   "id": "b9e5f9ba",
   "metadata": {},
   "outputs": [
    {
     "name": "stdout",
     "output_type": "stream",
     "text": [
      "日期：2014-11-18 00:00:00 至 2014-12-18 00:00:00\n"
     ]
    }
   ],
   "source": [
    "print(\"日期：{0} 至 {1}\".format(datas['date'].min(),datas['date'].max()))\n"
   ]
  },
  {
   "cell_type": "markdown",
   "id": "3be98456",
   "metadata": {},
   "source": [
    "**可看出这份数据的时间是从2014年11月18日至12月18日**"
   ]
  },
  {
   "cell_type": "markdown",
   "id": "2f8c431a",
   "metadata": {},
   "source": [
    "# 3.流量分析（PV与UV）"
   ]
  },
  {
   "cell_type": "markdown",
   "id": "936cafe1",
   "metadata": {},
   "source": [
    "## 3.1 以天数为单位进行流量分析"
   ]
  },
  {
   "cell_type": "markdown",
   "id": "35694b15",
   "metadata": {},
   "source": [
    "### 3.1.1 每日页面访问流量情况（PV）"
   ]
  },
  {
   "cell_type": "code",
   "execution_count": 11,
   "id": "0bfe7768",
   "metadata": {},
   "outputs": [
    {
     "data": {
      "text/html": [
       "<div>\n",
       "<style scoped>\n",
       "    .dataframe tbody tr th:only-of-type {\n",
       "        vertical-align: middle;\n",
       "    }\n",
       "\n",
       "    .dataframe tbody tr th {\n",
       "        vertical-align: top;\n",
       "    }\n",
       "\n",
       "    .dataframe thead th {\n",
       "        text-align: right;\n",
       "    }\n",
       "</style>\n",
       "<table border=\"1\" class=\"dataframe\">\n",
       "  <thead>\n",
       "    <tr style=\"text-align: right;\">\n",
       "      <th></th>\n",
       "      <th>date</th>\n",
       "      <th>pv_daily</th>\n",
       "    </tr>\n",
       "  </thead>\n",
       "  <tbody>\n",
       "    <tr>\n",
       "      <th>0</th>\n",
       "      <td>2014-11-18</td>\n",
       "      <td>366701</td>\n",
       "    </tr>\n",
       "    <tr>\n",
       "      <th>1</th>\n",
       "      <td>2014-11-19</td>\n",
       "      <td>358823</td>\n",
       "    </tr>\n",
       "    <tr>\n",
       "      <th>2</th>\n",
       "      <td>2014-11-20</td>\n",
       "      <td>353429</td>\n",
       "    </tr>\n",
       "    <tr>\n",
       "      <th>3</th>\n",
       "      <td>2014-11-21</td>\n",
       "      <td>333104</td>\n",
       "    </tr>\n",
       "    <tr>\n",
       "      <th>4</th>\n",
       "      <td>2014-11-22</td>\n",
       "      <td>361355</td>\n",
       "    </tr>\n",
       "  </tbody>\n",
       "</table>\n",
       "</div>"
      ],
      "text/plain": [
       "        date  pv_daily\n",
       "0 2014-11-18    366701\n",
       "1 2014-11-19    358823\n",
       "2 2014-11-20    353429\n",
       "3 2014-11-21    333104\n",
       "4 2014-11-22    361355"
      ]
     },
     "execution_count": 11,
     "metadata": {},
     "output_type": "execute_result"
    }
   ],
   "source": [
    "#计算PV，把值保存在pv_daily中\n",
    "pv_daily = datas.groupby('date')['user_id'].count()\n",
    "pv_daily=pv_daily.reset_index()\n",
    "pv_daily=pv_daily.rename(columns={'user_id':'pv_daily'})\n",
    "pv_daily.head(5)"
   ]
  },
  {
   "cell_type": "markdown",
   "id": "f8b1f08d",
   "metadata": {},
   "source": [
    "### 3.1.2 日活跃用户数情况（UV）"
   ]
  },
  {
   "cell_type": "code",
   "execution_count": 57,
   "id": "c2caf7dc",
   "metadata": {},
   "outputs": [
    {
     "name": "stdout",
     "output_type": "stream",
     "text": [
      "打印前5条数据\n",
      "         date  uv_daily\n",
      "0 2014-11-18      6343\n",
      "1 2014-11-19      6420\n",
      "2 2014-11-20      6333\n",
      "3 2014-11-21      6276\n",
      "4 2014-11-22      6187\n"
     ]
    }
   ],
   "source": [
    "# 计算UV情况\n",
    "\n",
    "#定义函数，去除重复值，并计算去重后的数量\n",
    "def uniqueSeries(column):\n",
    "    return len(column.unique())\n",
    "# 按date进行分组，计算每个日期的UV情况\n",
    "# uv_daily = datas.groupby('date')['user_id'].map(uniqueSeries)  #map只适用于单列，groupby后数据分成了多列\n",
    "uv_daily = datas.groupby('date')['user_id'].apply(uniqueSeries)\n",
    "uv_daily=uv_daily.reset_index()\n",
    "uv_daily=uv_daily.rename(columns={'user_id':'uv_daily'})\n",
    "print(\"打印前5条数据\\n\",uv_daily.head(5))"
   ]
  },
  {
   "cell_type": "markdown",
   "id": "5102e42d",
   "metadata": {},
   "source": [
    "### 3.1.3 对PV和UV情况进行可视化"
   ]
  },
  {
   "cell_type": "code",
   "execution_count": 13,
   "id": "6b115b58",
   "metadata": {},
   "outputs": [
    {
     "data": {
      "image/png": "[encoded data removed]",
      "text/plain": [
       "<Figure size 432x288 with 2 Axes>"
      ]
     },
     "metadata": {
      "needs_background": "light"
     },
     "output_type": "display_data"
    }
   ],
   "source": [
    "fig, axes = plt.subplots(2,1,sharex=True)\n",
    "#绘制pv\n",
    "pv_plot = pv_daily.plot(x='date',y='pv_daily',ax=axes[0])\n",
    "\n",
    "#绘制uv\n",
    "uv_plot = uv_daily.plot(x='date', y='uv_daily',ax=axes[1], colormap='RdGy')\n",
    "# 计算最大值以及其索引号\n",
    "max_value = uv_daily['uv_daily'].max()\n",
    "max_index = uv_daily['uv_daily'].idxmax() # max_index 为最大值对应的行索引号\n",
    "#绘制虚线\n",
    "# uv_plot.axhline(max_value, color=\"red\", linestyle=\"--\") #绘制横向虚线线\n",
    "#因为横坐标为日期类型，因此第一个需要输入日期类型，通过max_index获取对于日期\n",
    "uv_plot.axvline(uv_daily['date'].loc[max_index], color=\"red\", linestyle=\"--\")\n",
    "# uv_plot.annotate\n",
    "plt.show()"
   ]
  },
  {
   "cell_type": "markdown",
   "id": "abedb8d5",
   "metadata": {},
   "source": [
    "**由上图可知，pv与uv情况大体一样，而峰值出现在12月12号，而这天正是淘宝双十二活动，符合预期**"
   ]
  },
  {
   "cell_type": "markdown",
   "id": "269b46be",
   "metadata": {},
   "source": [
    "## 3.2 基于小时级别的流量分析"
   ]
  },
  {
   "cell_type": "markdown",
   "id": "a7d81e2b",
   "metadata": {},
   "source": [
    "### 3.2.1 每小时的PV情况"
   ]
  },
  {
   "cell_type": "code",
   "execution_count": 14,
   "id": "d5a191f3",
   "metadata": {},
   "outputs": [
    {
     "data": {
      "text/html": [
       "<div>\n",
       "<style scoped>\n",
       "    .dataframe tbody tr th:only-of-type {\n",
       "        vertical-align: middle;\n",
       "    }\n",
       "\n",
       "    .dataframe tbody tr th {\n",
       "        vertical-align: top;\n",
       "    }\n",
       "\n",
       "    .dataframe thead th {\n",
       "        text-align: right;\n",
       "    }\n",
       "</style>\n",
       "<table border=\"1\" class=\"dataframe\">\n",
       "  <thead>\n",
       "    <tr style=\"text-align: right;\">\n",
       "      <th></th>\n",
       "      <th>hour</th>\n",
       "      <th>pv_hour</th>\n",
       "    </tr>\n",
       "  </thead>\n",
       "  <tbody>\n",
       "    <tr>\n",
       "      <th>0</th>\n",
       "      <td>0</td>\n",
       "      <td>517404</td>\n",
       "    </tr>\n",
       "    <tr>\n",
       "      <th>1</th>\n",
       "      <td>1</td>\n",
       "      <td>267682</td>\n",
       "    </tr>\n",
       "    <tr>\n",
       "      <th>2</th>\n",
       "      <td>2</td>\n",
       "      <td>147090</td>\n",
       "    </tr>\n",
       "    <tr>\n",
       "      <th>3</th>\n",
       "      <td>3</td>\n",
       "      <td>98516</td>\n",
       "    </tr>\n",
       "    <tr>\n",
       "      <th>4</th>\n",
       "      <td>4</td>\n",
       "      <td>80487</td>\n",
       "    </tr>\n",
       "    <tr>\n",
       "      <th>5</th>\n",
       "      <td>5</td>\n",
       "      <td>88296</td>\n",
       "    </tr>\n",
       "    <tr>\n",
       "      <th>6</th>\n",
       "      <td>6</td>\n",
       "      <td>158798</td>\n",
       "    </tr>\n",
       "    <tr>\n",
       "      <th>7</th>\n",
       "      <td>7</td>\n",
       "      <td>287337</td>\n",
       "    </tr>\n",
       "    <tr>\n",
       "      <th>8</th>\n",
       "      <td>8</td>\n",
       "      <td>396106</td>\n",
       "    </tr>\n",
       "    <tr>\n",
       "      <th>9</th>\n",
       "      <td>9</td>\n",
       "      <td>485951</td>\n",
       "    </tr>\n",
       "    <tr>\n",
       "      <th>10</th>\n",
       "      <td>10</td>\n",
       "      <td>550665</td>\n",
       "    </tr>\n",
       "    <tr>\n",
       "      <th>11</th>\n",
       "      <td>11</td>\n",
       "      <td>526940</td>\n",
       "    </tr>\n",
       "    <tr>\n",
       "      <th>12</th>\n",
       "      <td>12</td>\n",
       "      <td>531957</td>\n",
       "    </tr>\n",
       "    <tr>\n",
       "      <th>13</th>\n",
       "      <td>13</td>\n",
       "      <td>598343</td>\n",
       "    </tr>\n",
       "    <tr>\n",
       "      <th>14</th>\n",
       "      <td>14</td>\n",
       "      <td>594215</td>\n",
       "    </tr>\n",
       "    <tr>\n",
       "      <th>15</th>\n",
       "      <td>15</td>\n",
       "      <td>598849</td>\n",
       "    </tr>\n",
       "    <tr>\n",
       "      <th>16</th>\n",
       "      <td>16</td>\n",
       "      <td>576207</td>\n",
       "    </tr>\n",
       "    <tr>\n",
       "      <th>17</th>\n",
       "      <td>17</td>\n",
       "      <td>505936</td>\n",
       "    </tr>\n",
       "    <tr>\n",
       "      <th>18</th>\n",
       "      <td>18</td>\n",
       "      <td>547383</td>\n",
       "    </tr>\n",
       "    <tr>\n",
       "      <th>19</th>\n",
       "      <td>19</td>\n",
       "      <td>735192</td>\n",
       "    </tr>\n",
       "    <tr>\n",
       "      <th>20</th>\n",
       "      <td>20</td>\n",
       "      <td>935161</td>\n",
       "    </tr>\n",
       "    <tr>\n",
       "      <th>21</th>\n",
       "      <td>21</td>\n",
       "      <td>1090178</td>\n",
       "    </tr>\n",
       "    <tr>\n",
       "      <th>22</th>\n",
       "      <td>22</td>\n",
       "      <td>1088961</td>\n",
       "    </tr>\n",
       "    <tr>\n",
       "      <th>23</th>\n",
       "      <td>23</td>\n",
       "      <td>849252</td>\n",
       "    </tr>\n",
       "  </tbody>\n",
       "</table>\n",
       "</div>"
      ],
      "text/plain": [
       "    hour  pv_hour\n",
       "0      0   517404\n",
       "1      1   267682\n",
       "2      2   147090\n",
       "3      3    98516\n",
       "4      4    80487\n",
       "5      5    88296\n",
       "6      6   158798\n",
       "7      7   287337\n",
       "8      8   396106\n",
       "9      9   485951\n",
       "10    10   550665\n",
       "11    11   526940\n",
       "12    12   531957\n",
       "13    13   598343\n",
       "14    14   594215\n",
       "15    15   598849\n",
       "16    16   576207\n",
       "17    17   505936\n",
       "18    18   547383\n",
       "19    19   735192\n",
       "20    20   935161\n",
       "21    21  1090178\n",
       "22    22  1088961\n",
       "23    23   849252"
      ]
     },
     "execution_count": 14,
     "metadata": {},
     "output_type": "execute_result"
    }
   ],
   "source": [
    "# 计算每小时的PV\n",
    "pv_hour = datas.groupby('hour')['user_id'].count()\n",
    "pv_hour = pv_hour.reset_index()\n",
    "pv_hour = pv_hour.rename(columns={'user_id':'pv_hour'})\n",
    "pv_hour"
   ]
  },
  {
   "cell_type": "markdown",
   "id": "ce6b9a2a",
   "metadata": {},
   "source": [
    "### 3.2.2 每小时的UV情况"
   ]
  },
  {
   "cell_type": "code",
   "execution_count": 15,
   "id": "3e68d379",
   "metadata": {},
   "outputs": [
    {
     "data": {
      "text/html": [
       "<div>\n",
       "<style scoped>\n",
       "    .dataframe tbody tr th:only-of-type {\n",
       "        vertical-align: middle;\n",
       "    }\n",
       "\n",
       "    .dataframe tbody tr th {\n",
       "        vertical-align: top;\n",
       "    }\n",
       "\n",
       "    .dataframe thead th {\n",
       "        text-align: right;\n",
       "    }\n",
       "</style>\n",
       "<table border=\"1\" class=\"dataframe\">\n",
       "  <thead>\n",
       "    <tr style=\"text-align: right;\">\n",
       "      <th></th>\n",
       "      <th>hour</th>\n",
       "      <th>uv_hour</th>\n",
       "    </tr>\n",
       "  </thead>\n",
       "  <tbody>\n",
       "    <tr>\n",
       "      <th>0</th>\n",
       "      <td>0</td>\n",
       "      <td>5786</td>\n",
       "    </tr>\n",
       "    <tr>\n",
       "      <th>1</th>\n",
       "      <td>1</td>\n",
       "      <td>3780</td>\n",
       "    </tr>\n",
       "    <tr>\n",
       "      <th>2</th>\n",
       "      <td>2</td>\n",
       "      <td>2532</td>\n",
       "    </tr>\n",
       "    <tr>\n",
       "      <th>3</th>\n",
       "      <td>3</td>\n",
       "      <td>1937</td>\n",
       "    </tr>\n",
       "    <tr>\n",
       "      <th>4</th>\n",
       "      <td>4</td>\n",
       "      <td>1765</td>\n",
       "    </tr>\n",
       "    <tr>\n",
       "      <th>5</th>\n",
       "      <td>5</td>\n",
       "      <td>2030</td>\n",
       "    </tr>\n",
       "    <tr>\n",
       "      <th>6</th>\n",
       "      <td>6</td>\n",
       "      <td>3564</td>\n",
       "    </tr>\n",
       "    <tr>\n",
       "      <th>7</th>\n",
       "      <td>7</td>\n",
       "      <td>5722</td>\n",
       "    </tr>\n",
       "    <tr>\n",
       "      <th>8</th>\n",
       "      <td>8</td>\n",
       "      <td>7108</td>\n",
       "    </tr>\n",
       "    <tr>\n",
       "      <th>9</th>\n",
       "      <td>9</td>\n",
       "      <td>7734</td>\n",
       "    </tr>\n",
       "    <tr>\n",
       "      <th>10</th>\n",
       "      <td>10</td>\n",
       "      <td>8139</td>\n",
       "    </tr>\n",
       "    <tr>\n",
       "      <th>11</th>\n",
       "      <td>11</td>\n",
       "      <td>8239</td>\n",
       "    </tr>\n",
       "    <tr>\n",
       "      <th>12</th>\n",
       "      <td>12</td>\n",
       "      <td>8314</td>\n",
       "    </tr>\n",
       "    <tr>\n",
       "      <th>13</th>\n",
       "      <td>13</td>\n",
       "      <td>8352</td>\n",
       "    </tr>\n",
       "    <tr>\n",
       "      <th>14</th>\n",
       "      <td>14</td>\n",
       "      <td>8255</td>\n",
       "    </tr>\n",
       "    <tr>\n",
       "      <th>15</th>\n",
       "      <td>15</td>\n",
       "      <td>8257</td>\n",
       "    </tr>\n",
       "    <tr>\n",
       "      <th>16</th>\n",
       "      <td>16</td>\n",
       "      <td>8320</td>\n",
       "    </tr>\n",
       "    <tr>\n",
       "      <th>17</th>\n",
       "      <td>17</td>\n",
       "      <td>8228</td>\n",
       "    </tr>\n",
       "    <tr>\n",
       "      <th>18</th>\n",
       "      <td>18</td>\n",
       "      <td>8278</td>\n",
       "    </tr>\n",
       "    <tr>\n",
       "      <th>19</th>\n",
       "      <td>19</td>\n",
       "      <td>8538</td>\n",
       "    </tr>\n",
       "    <tr>\n",
       "      <th>20</th>\n",
       "      <td>20</td>\n",
       "      <td>8780</td>\n",
       "    </tr>\n",
       "    <tr>\n",
       "      <th>21</th>\n",
       "      <td>21</td>\n",
       "      <td>8866</td>\n",
       "    </tr>\n",
       "    <tr>\n",
       "      <th>22</th>\n",
       "      <td>22</td>\n",
       "      <td>8599</td>\n",
       "    </tr>\n",
       "    <tr>\n",
       "      <th>23</th>\n",
       "      <td>23</td>\n",
       "      <td>7484</td>\n",
       "    </tr>\n",
       "  </tbody>\n",
       "</table>\n",
       "</div>"
      ],
      "text/plain": [
       "    hour  uv_hour\n",
       "0      0     5786\n",
       "1      1     3780\n",
       "2      2     2532\n",
       "3      3     1937\n",
       "4      4     1765\n",
       "5      5     2030\n",
       "6      6     3564\n",
       "7      7     5722\n",
       "8      8     7108\n",
       "9      9     7734\n",
       "10    10     8139\n",
       "11    11     8239\n",
       "12    12     8314\n",
       "13    13     8352\n",
       "14    14     8255\n",
       "15    15     8257\n",
       "16    16     8320\n",
       "17    17     8228\n",
       "18    18     8278\n",
       "19    19     8538\n",
       "20    20     8780\n",
       "21    21     8866\n",
       "22    22     8599\n",
       "23    23     7484"
      ]
     },
     "execution_count": 15,
     "metadata": {},
     "output_type": "execute_result"
    }
   ],
   "source": [
    "# 计算每小时的UV\n",
    "uv_hour = datas.groupby('hour')['user_id'].apply(uniqueSeries)\n",
    "uv_hour = uv_hour.reset_index()\n",
    "uv_hour = uv_hour.rename(columns={'user_id':'uv_hour'})\n",
    "uv_hour"
   ]
  },
  {
   "cell_type": "markdown",
   "id": "41f04931",
   "metadata": {},
   "source": [
    "### 3.2.3 PV与UV可视化"
   ]
  },
  {
   "cell_type": "code",
   "execution_count": 16,
   "id": "059a769d",
   "metadata": {},
   "outputs": [
    {
     "data": {
      "text/plain": [
       "Text(0.5, 1.0, 'uv_hour')"
      ]
     },
     "execution_count": 16,
     "metadata": {},
     "output_type": "execute_result"
    },
    {
     "data": {
      "image/png": "[encoded data removed]",
      "text/plain": [
       "<Figure size 432x288 with 2 Axes>"
      ]
     },
     "metadata": {
      "needs_background": "light"
     },
     "output_type": "display_data"
    }
   ],
   "source": [
    "# 可视化\n",
    "fig, axes = plt.subplots(2,1,sharex=True)\n",
    "pv_hour.plot(x='hour',y='pv_hour',ax=axes[0],colormap='cividis')\n",
    "uv_hour.plot(x='hour', y='uv_hour', ax=axes[1],colormap='RdGy')\n",
    "axes[0].set_title('pv_hour')\n",
    "axes[1].set_title('uv_hour')"
   ]
  },
  {
   "cell_type": "markdown",
   "id": "3005fd4d",
   "metadata": {},
   "source": [
    "**从上述可视化图像可知，每天的pv与uv在晚上20点之后达到巅峰，在凌晨时段最低，符合人们日常习惯。\n",
    "而pv在白天时段（7点-18点）保持稳定（维持在500000左右），18点开始呈上升趋势，说明用户在晚上下班后会更加频繁刷新淘宝页面，浏览淘宝商品。\n",
    "而uv除了在凌晨阶段（0点-7点）较低之外，其他时间相差不大，说明用户在非睡眠时段都会点开淘宝，但不一定会频繁刷新，有可能是为了打开淘宝查看快递情况，或者关注商品是否有降价情况。**"
   ]
  },
  {
   "cell_type": "markdown",
   "id": "fb3e98e7",
   "metadata": {},
   "source": [
    "## 3.3 分析双十二当天的流量情况"
   ]
  },
  {
   "cell_type": "code",
   "execution_count": 17,
   "id": "d0b1dce7",
   "metadata": {},
   "outputs": [
    {
     "data": {
      "text/html": [
       "<div>\n",
       "<style scoped>\n",
       "    .dataframe tbody tr th:only-of-type {\n",
       "        vertical-align: middle;\n",
       "    }\n",
       "\n",
       "    .dataframe tbody tr th {\n",
       "        vertical-align: top;\n",
       "    }\n",
       "\n",
       "    .dataframe thead th {\n",
       "        text-align: right;\n",
       "    }\n",
       "</style>\n",
       "<table border=\"1\" class=\"dataframe\">\n",
       "  <thead>\n",
       "    <tr style=\"text-align: right;\">\n",
       "      <th></th>\n",
       "      <th>hour</th>\n",
       "      <th>pv_hour_1212</th>\n",
       "    </tr>\n",
       "  </thead>\n",
       "  <tbody>\n",
       "    <tr>\n",
       "      <th>0</th>\n",
       "      <td>0</td>\n",
       "      <td>50030</td>\n",
       "    </tr>\n",
       "    <tr>\n",
       "      <th>1</th>\n",
       "      <td>1</td>\n",
       "      <td>22761</td>\n",
       "    </tr>\n",
       "    <tr>\n",
       "      <th>2</th>\n",
       "      <td>2</td>\n",
       "      <td>11754</td>\n",
       "    </tr>\n",
       "    <tr>\n",
       "      <th>3</th>\n",
       "      <td>3</td>\n",
       "      <td>6173</td>\n",
       "    </tr>\n",
       "    <tr>\n",
       "      <th>4</th>\n",
       "      <td>4</td>\n",
       "      <td>5168</td>\n",
       "    </tr>\n",
       "    <tr>\n",
       "      <th>5</th>\n",
       "      <td>5</td>\n",
       "      <td>6417</td>\n",
       "    </tr>\n",
       "    <tr>\n",
       "      <th>6</th>\n",
       "      <td>6</td>\n",
       "      <td>12820</td>\n",
       "    </tr>\n",
       "    <tr>\n",
       "      <th>7</th>\n",
       "      <td>7</td>\n",
       "      <td>22177</td>\n",
       "    </tr>\n",
       "    <tr>\n",
       "      <th>8</th>\n",
       "      <td>8</td>\n",
       "      <td>28156</td>\n",
       "    </tr>\n",
       "    <tr>\n",
       "      <th>9</th>\n",
       "      <td>9</td>\n",
       "      <td>32695</td>\n",
       "    </tr>\n",
       "    <tr>\n",
       "      <th>10</th>\n",
       "      <td>10</td>\n",
       "      <td>32631</td>\n",
       "    </tr>\n",
       "    <tr>\n",
       "      <th>11</th>\n",
       "      <td>11</td>\n",
       "      <td>28029</td>\n",
       "    </tr>\n",
       "    <tr>\n",
       "      <th>12</th>\n",
       "      <td>12</td>\n",
       "      <td>30058</td>\n",
       "    </tr>\n",
       "    <tr>\n",
       "      <th>13</th>\n",
       "      <td>13</td>\n",
       "      <td>33136</td>\n",
       "    </tr>\n",
       "    <tr>\n",
       "      <th>14</th>\n",
       "      <td>14</td>\n",
       "      <td>29840</td>\n",
       "    </tr>\n",
       "    <tr>\n",
       "      <th>15</th>\n",
       "      <td>15</td>\n",
       "      <td>29744</td>\n",
       "    </tr>\n",
       "    <tr>\n",
       "      <th>16</th>\n",
       "      <td>16</td>\n",
       "      <td>29872</td>\n",
       "    </tr>\n",
       "    <tr>\n",
       "      <th>17</th>\n",
       "      <td>17</td>\n",
       "      <td>25570</td>\n",
       "    </tr>\n",
       "    <tr>\n",
       "      <th>18</th>\n",
       "      <td>18</td>\n",
       "      <td>27065</td>\n",
       "    </tr>\n",
       "    <tr>\n",
       "      <th>19</th>\n",
       "      <td>19</td>\n",
       "      <td>35238</td>\n",
       "    </tr>\n",
       "    <tr>\n",
       "      <th>20</th>\n",
       "      <td>20</td>\n",
       "      <td>43206</td>\n",
       "    </tr>\n",
       "    <tr>\n",
       "      <th>21</th>\n",
       "      <td>21</td>\n",
       "      <td>51259</td>\n",
       "    </tr>\n",
       "    <tr>\n",
       "      <th>22</th>\n",
       "      <td>22</td>\n",
       "      <td>51337</td>\n",
       "    </tr>\n",
       "    <tr>\n",
       "      <th>23</th>\n",
       "      <td>23</td>\n",
       "      <td>46576</td>\n",
       "    </tr>\n",
       "  </tbody>\n",
       "</table>\n",
       "</div>"
      ],
      "text/plain": [
       "    hour  pv_hour_1212\n",
       "0      0         50030\n",
       "1      1         22761\n",
       "2      2         11754\n",
       "3      3          6173\n",
       "4      4          5168\n",
       "5      5          6417\n",
       "6      6         12820\n",
       "7      7         22177\n",
       "8      8         28156\n",
       "9      9         32695\n",
       "10    10         32631\n",
       "11    11         28029\n",
       "12    12         30058\n",
       "13    13         33136\n",
       "14    14         29840\n",
       "15    15         29744\n",
       "16    16         29872\n",
       "17    17         25570\n",
       "18    18         27065\n",
       "19    19         35238\n",
       "20    20         43206\n",
       "21    21         51259\n",
       "22    22         51337\n",
       "23    23         46576"
      ]
     },
     "execution_count": 17,
     "metadata": {},
     "output_type": "execute_result"
    }
   ],
   "source": [
    "datas_1212 = datas.loc[datas['date']=='2014-12-12']\n",
    "#计算12月12日这天每小时的pv\n",
    "pv_hour_1212 = datas_1212.groupby('hour')['user_id'].count()\n",
    "pv_hour_1212 = pv_hour_1212.reset_index()\n",
    "pv_hour_1212 = pv_hour_1212.rename(columns={'user_id':'pv_hour_1212'})\n",
    "pv_hour_1212"
   ]
  },
  {
   "cell_type": "code",
   "execution_count": 18,
   "id": "575c8375",
   "metadata": {},
   "outputs": [
    {
     "data": {
      "text/plain": [
       "<matplotlib.axes._subplots.AxesSubplot at 0x1f89b3292e8>"
      ]
     },
     "execution_count": 18,
     "metadata": {},
     "output_type": "execute_result"
    },
    {
     "data": {
      "image/png": "[encoded data removed]",
      "text/plain": [
       "<Figure size 432x288 with 1 Axes>"
      ]
     },
     "metadata": {
      "needs_background": "light"
     },
     "output_type": "display_data"
    }
   ],
   "source": [
    "#可视化PV\n",
    "pv_hour_1212.plot(x='hour',y='pv_hour_1212')"
   ]
  },
  {
   "cell_type": "markdown",
   "id": "5788373a",
   "metadata": {},
   "source": [
    "**从上述pv可视化图像可知，用户集中在20点之后频繁浏览淘宝，但与平时不同的是，在凌晨0点时pv值仍处于最高水平，该情况应该与淘宝双十二活动集中在0点有关，用户集中在0点进行抢购，说明双十二活动在很大程度上吸引了用户**"
   ]
  },
  {
   "cell_type": "markdown",
   "id": "c0c7c3a3",
   "metadata": {},
   "source": [
    "# 4.转化率分析\n",
    "**该数据集中的用户共有4种行为，分别是浏览、收藏、加购物车、购买。</br>\n",
    "其中收藏和加购物车的行为没有转化关系，把该两种行为合二为一统称为收藏。</br>\n",
    "分别计算“浏览—收藏”、“收藏—购买”以及“浏览—购买”的转化率**"
   ]
  },
  {
   "cell_type": "markdown",
   "id": "5636327f",
   "metadata": {},
   "source": [
    "## 4.1 基于该月份用户的行为进行分析"
   ]
  },
  {
   "cell_type": "code",
   "execution_count": 19,
   "id": "54a4c743",
   "metadata": {},
   "outputs": [
    {
     "data": {
      "text/html": [
       "<div>\n",
       "<style scoped>\n",
       "    .dataframe tbody tr th:only-of-type {\n",
       "        vertical-align: middle;\n",
       "    }\n",
       "\n",
       "    .dataframe tbody tr th {\n",
       "        vertical-align: top;\n",
       "    }\n",
       "\n",
       "    .dataframe thead th {\n",
       "        text-align: right;\n",
       "    }\n",
       "</style>\n",
       "<table border=\"1\" class=\"dataframe\">\n",
       "  <thead>\n",
       "    <tr style=\"text-align: right;\">\n",
       "      <th></th>\n",
       "      <th>behavior_type</th>\n",
       "      <th>behavior_count</th>\n",
       "    </tr>\n",
       "  </thead>\n",
       "  <tbody>\n",
       "    <tr>\n",
       "      <th>0</th>\n",
       "      <td>1</td>\n",
       "      <td>11550581</td>\n",
       "    </tr>\n",
       "    <tr>\n",
       "      <th>1</th>\n",
       "      <td>2</td>\n",
       "      <td>242556</td>\n",
       "    </tr>\n",
       "    <tr>\n",
       "      <th>2</th>\n",
       "      <td>3</td>\n",
       "      <td>343564</td>\n",
       "    </tr>\n",
       "    <tr>\n",
       "      <th>3</th>\n",
       "      <td>4</td>\n",
       "      <td>120205</td>\n",
       "    </tr>\n",
       "  </tbody>\n",
       "</table>\n",
       "</div>"
      ],
      "text/plain": [
       "   behavior_type  behavior_count\n",
       "0              1        11550581\n",
       "1              2          242556\n",
       "2              3          343564\n",
       "3              4          120205"
      ]
     },
     "execution_count": 19,
     "metadata": {},
     "output_type": "execute_result"
    }
   ],
   "source": [
    "behavior = datas.groupby(['behavior_type'])['user_id'].count()\n",
    "behavior = behavior.reset_index()\n",
    "behavior = behavior.rename(columns={'user_id':'behavior_count'})\n",
    "behavior\n",
    "#浏览、收藏、加购物车、购买，对应取值分别是1、2、3、4"
   ]
  },
  {
   "cell_type": "code",
   "execution_count": 58,
   "id": "2699af70",
   "metadata": {},
   "outputs": [
    {
     "name": "stdout",
     "output_type": "stream",
     "text": [
      "浏览 - 收藏的转化率： 5.074376778103197\n",
      "浏览 - 购买的转化率： 1.04068358119821\n",
      "收藏 - 购买的转化率： 20.508598921722516\n"
     ]
    }
   ],
   "source": [
    "#对收藏和加购物车进行相关性分析 to-do-list\n",
    "\n",
    "#此处先假设收藏和加入购物车这两个行为没有必然联系\n",
    "browse_count = behavior.iloc[0,1] #浏览人数\n",
    "\n",
    "collect_count = behavior.iloc[1,1] #收藏人数\n",
    "cart_count = behavior.iloc[2,1] # 加入购物车人数\n",
    "\n",
    "collect_cart_count = collect_count + cart_count #收藏以及加购人数\n",
    "purchase_count = behavior.iloc[3,1] #购买人数\n",
    "#print(browse_count,collect_count,cart_count,purchase_count)\n",
    "\n",
    "#计算转化率，这里计算“浏览-收藏/加购”，“浏览-购买”，“收藏/加购-购买”。\n",
    "browse_to_collectCart = (collect_cart_count / browse_count) * 100\n",
    "browse_to_purchase = (purchase_count / browse_count) *100\n",
    "collectCart_to_purchase = (purchase_count / collect_cart_count) * 100\n",
    "\n",
    "print(\"浏览 - 收藏的转化率：\",browse_to_collectCart)\n",
    "print(\"浏览 - 购买的转化率：\",browse_to_purchase)\n",
    "print(\"收藏 - 购买的转化率：\",collectCart_to_purchase)"
   ]
  },
  {
   "cell_type": "markdown",
   "id": "7ecdf374",
   "metadata": {},
   "source": [
    "**下面绘制漏斗图**"
   ]
  },
  {
   "cell_type": "code",
   "execution_count": 59,
   "id": "7528b558",
   "metadata": {},
   "outputs": [
    {
     "data": {
      "text/html": [
       "<div>\n",
       "<style scoped>\n",
       "    .dataframe tbody tr th:only-of-type {\n",
       "        vertical-align: middle;\n",
       "    }\n",
       "\n",
       "    .dataframe tbody tr th {\n",
       "        vertical-align: top;\n",
       "    }\n",
       "\n",
       "    .dataframe thead th {\n",
       "        text-align: right;\n",
       "    }\n",
       "</style>\n",
       "<table border=\"1\" class=\"dataframe\">\n",
       "  <thead>\n",
       "    <tr style=\"text-align: right;\">\n",
       "      <th></th>\n",
       "      <th>number</th>\n",
       "      <th>stage</th>\n",
       "    </tr>\n",
       "  </thead>\n",
       "  <tbody>\n",
       "    <tr>\n",
       "      <th>0</th>\n",
       "      <td>11550581</td>\n",
       "      <td>浏览量</td>\n",
       "    </tr>\n",
       "    <tr>\n",
       "      <th>1</th>\n",
       "      <td>586120</td>\n",
       "      <td>收藏量</td>\n",
       "    </tr>\n",
       "    <tr>\n",
       "      <th>2</th>\n",
       "      <td>120205</td>\n",
       "      <td>购买量</td>\n",
       "    </tr>\n",
       "  </tbody>\n",
       "</table>\n",
       "</div>"
      ],
      "text/plain": [
       "     number stage\n",
       "0  11550581   浏览量\n",
       "1    586120   收藏量\n",
       "2    120205   购买量"
      ]
     },
     "execution_count": 59,
     "metadata": {},
     "output_type": "execute_result"
    }
   ],
   "source": [
    "# 漏斗图\n",
    "import plotly.express as px\n",
    "from IPython.display import HTML\n",
    "browse_count_int = int(browse_count)\n",
    "collect_cart_count_int = int(collect_cart_count)\n",
    "purchase_count_int = int(purchase_count)\n",
    "data1 = pd.DataFrame({\n",
    "    \"number\":[browse_count_int,collect_cart_count_int,purchase_count_int],\n",
    "    \"stage\":[\"浏览量\", \"收藏量\", \"购买量\"]\n",
    "})\n",
    "data1"
   ]
  },
  {
   "cell_type": "code",
   "execution_count": 60,
   "id": "b84a34e5",
   "metadata": {},
   "outputs": [
    {
     "data": {
      "application/vnd.plotly.v1+json": {
       "config": {
        "plotlyServerURL": "https://plot.ly"
       },
       "data": [
        {
         "connector": {
          "line": {
           "color": "royalblue",
           "width": 1
          }
         },
         "textinfo": "value+percent initial+percent previous",
         "type": "funnel",
         "x": [
          11550581,
          586120,
          120205
         ],
         "y": [
          "浏览量",
          "收藏量",
          "购买量"
         ]
        }
       ],
       "layout": {
        "template": {
         "data": {
          "bar": [
           {
            "error_x": {
             "color": "#2a3f5f"
            },
            "error_y": {
             "color": "#2a3f5f"
            },
            "marker": {
             "line": {
              "color": "#E5ECF6",
              "width": 0.5
             },
             "pattern": {
              "fillmode": "overlay",
              "size": 10,
              "solidity": 0.2
             }
            },
            "type": "bar"
           }
          ],
          "barpolar": [
           {
            "marker": {
             "line": {
              "color": "#E5ECF6",
              "width": 0.5
             },
             "pattern": {
              "fillmode": "overlay",
              "size": 10,
              "solidity": 0.2
             }
            },
            "type": "barpolar"
           }
          ],
          "carpet": [
           {
            "aaxis": {
             "endlinecolor": "#2a3f5f",
             "gridcolor": "white",
             "linecolor": "white",
             "minorgridcolor": "white",
             "startlinecolor": "#2a3f5f"
            },
            "baxis": {
             "endlinecolor": "#2a3f5f",
             "gridcolor": "white",
             "linecolor": "white",
             "minorgridcolor": "white",
             "startlinecolor": "#2a3f5f"
            },
            "type": "carpet"
           }
          ],
          "choropleth": [
           {
            "colorbar": {
             "outlinewidth": 0,
             "ticks": ""
            },
            "type": "choropleth"
           }
          ],
          "contour": [
           {
            "colorbar": {
             "outlinewidth": 0,
             "ticks": ""
            },
            "colorscale": [
             [
              0,
              "#0d0887"
             ],
             [
              0.1111111111111111,
              "#46039f"
             ],
             [
              0.2222222222222222,
              "#7201a8"
             ],
             [
              0.3333333333333333,
              "#9c179e"
             ],
             [
              0.4444444444444444,
              "#bd3786"
             ],
             [
              0.5555555555555556,
              "#d8576b"
             ],
             [
              0.6666666666666666,
              "#ed7953"
             ],
             [
              0.7777777777777778,
              "#fb9f3a"
             ],
             [
              0.8888888888888888,
              "#fdca26"
             ],
             [
              1,
              "#f0f921"
             ]
            ],
            "type": "contour"
           }
          ],
          "contourcarpet": [
           {
            "colorbar": {
             "outlinewidth": 0,
             "ticks": ""
            },
            "type": "contourcarpet"
           }
          ],
          "heatmap": [
           {
            "colorbar": {
             "outlinewidth": 0,
             "ticks": ""
            },
            "colorscale": [
             [
              0,
              "#0d0887"
             ],
             [
              0.1111111111111111,
              "#46039f"
             ],
             [
              0.2222222222222222,
              "#7201a8"
             ],
             [
              0.3333333333333333,
              "#9c179e"
             ],
             [
              0.4444444444444444,
              "#bd3786"
             ],
             [
              0.5555555555555556,
              "#d8576b"
             ],
             [
              0.6666666666666666,
              "#ed7953"
             ],
             [
              0.7777777777777778,
              "#fb9f3a"
             ],
             [
              0.8888888888888888,
              "#fdca26"
             ],
             [
              1,
              "#f0f921"
             ]
            ],
            "type": "heatmap"
           }
          ],
          "heatmapgl": [
           {
            "colorbar": {
             "outlinewidth": 0,
             "ticks": ""
            },
            "colorscale": [
             [
              0,
              "#0d0887"
             ],
             [
              0.1111111111111111,
              "#46039f"
             ],
             [
              0.2222222222222222,
              "#7201a8"
             ],
             [
              0.3333333333333333,
              "#9c179e"
             ],
             [
              0.4444444444444444,
              "#bd3786"
             ],
             [
              0.5555555555555556,
              "#d8576b"
             ],
             [
              0.6666666666666666,
              "#ed7953"
             ],
             [
              0.7777777777777778,
              "#fb9f3a"
             ],
             [
              0.8888888888888888,
              "#fdca26"
             ],
             [
              1,
              "#f0f921"
             ]
            ],
            "type": "heatmapgl"
           }
          ],
          "histogram": [
           {
            "marker": {
             "pattern": {
              "fillmode": "overlay",
              "size": 10,
              "solidity": 0.2
             }
            },
            "type": "histogram"
           }
          ],
          "histogram2d": [
           {
            "colorbar": {
             "outlinewidth": 0,
             "ticks": ""
            },
            "colorscale": [
             [
              0,
              "#0d0887"
             ],
             [
              0.1111111111111111,
              "#46039f"
             ],
             [
              0.2222222222222222,
              "#7201a8"
             ],
             [
              0.3333333333333333,
              "#9c179e"
             ],
             [
              0.4444444444444444,
              "#bd3786"
             ],
             [
              0.5555555555555556,
              "#d8576b"
             ],
             [
              0.6666666666666666,
              "#ed7953"
             ],
             [
              0.7777777777777778,
              "#fb9f3a"
             ],
             [
              0.8888888888888888,
              "#fdca26"
             ],
             [
              1,
              "#f0f921"
             ]
            ],
            "type": "histogram2d"
           }
          ],
          "histogram2dcontour": [
           {
            "colorbar": {
             "outlinewidth": 0,
             "ticks": ""
            },
            "colorscale": [
             [
              0,
              "#0d0887"
             ],
             [
              0.1111111111111111,
              "#46039f"
             ],
             [
              0.2222222222222222,
              "#7201a8"
             ],
             [
              0.3333333333333333,
              "#9c179e"
             ],
             [
              0.4444444444444444,
              "#bd3786"
             ],
             [
              0.5555555555555556,
              "#d8576b"
             ],
             [
              0.6666666666666666,
              "#ed7953"
             ],
             [
              0.7777777777777778,
              "#fb9f3a"
             ],
             [
              0.8888888888888888,
              "#fdca26"
             ],
             [
              1,
              "#f0f921"
             ]
            ],
            "type": "histogram2dcontour"
           }
          ],
          "mesh3d": [
           {
            "colorbar": {
             "outlinewidth": 0,
             "ticks": ""
            },
            "type": "mesh3d"
           }
          ],
          "parcoords": [
           {
            "line": {
             "colorbar": {
              "outlinewidth": 0,
              "ticks": ""
             }
            },
            "type": "parcoords"
           }
          ],
          "pie": [
           {
            "automargin": true,
            "type": "pie"
           }
          ],
          "scatter": [
           {
            "fillpattern": {
             "fillmode": "overlay",
             "size": 10,
             "solidity": 0.2
            },
            "type": "scatter"
           }
          ],
          "scatter3d": [
           {
            "line": {
             "colorbar": {
              "outlinewidth": 0,
              "ticks": ""
             }
            },
            "marker": {
             "colorbar": {
              "outlinewidth": 0,
              "ticks": ""
             }
            },
            "type": "scatter3d"
           }
          ],
          "scattercarpet": [
           {
            "marker": {
             "colorbar": {
              "outlinewidth": 0,
              "ticks": ""
             }
            },
            "type": "scattercarpet"
           }
          ],
          "scattergeo": [
           {
            "marker": {
             "colorbar": {
              "outlinewidth": 0,
              "ticks": ""
             }
            },
            "type": "scattergeo"
           }
          ],
          "scattergl": [
           {
            "marker": {
             "colorbar": {
              "outlinewidth": 0,
              "ticks": ""
             }
            },
            "type": "scattergl"
           }
          ],
          "scattermapbox": [
           {
            "marker": {
             "colorbar": {
              "outlinewidth": 0,
              "ticks": ""
             }
            },
            "type": "scattermapbox"
           }
          ],
          "scatterpolar": [
           {
            "marker": {
             "colorbar": {
              "outlinewidth": 0,
              "ticks": ""
             }
            },
            "type": "scatterpolar"
           }
          ],
          "scatterpolargl": [
           {
            "marker": {
             "colorbar": {
              "outlinewidth": 0,
              "ticks": ""
             }
            },
            "type": "scatterpolargl"
           }
          ],
          "scatterternary": [
           {
            "marker": {
             "colorbar": {
              "outlinewidth": 0,
              "ticks": ""
             }
            },
            "type": "scatterternary"
           }
          ],
          "surface": [
           {
            "colorbar": {
             "outlinewidth": 0,
             "ticks": ""
            },
            "colorscale": [
             [
              0,
              "#0d0887"
             ],
             [
              0.1111111111111111,
              "#46039f"
             ],
             [
              0.2222222222222222,
              "#7201a8"
             ],
             [
              0.3333333333333333,
              "#9c179e"
             ],
             [
              0.4444444444444444,
              "#bd3786"
             ],
             [
              0.5555555555555556,
              "#d8576b"
             ],
             [
              0.6666666666666666,
              "#ed7953"
             ],
             [
              0.7777777777777778,
              "#fb9f3a"
             ],
             [
              0.8888888888888888,
              "#fdca26"
             ],
             [
              1,
              "#f0f921"
             ]
            ],
            "type": "surface"
           }
          ],
          "table": [
           {
            "cells": {
             "fill": {
              "color": "#EBF0F8"
             },
             "line": {
              "color": "white"
             }
            },
            "header": {
             "fill": {
              "color": "#C8D4E3"
             },
             "line": {
              "color": "white"
             }
            },
            "type": "table"
           }
          ]
         },
         "layout": {
          "annotationdefaults": {
           "arrowcolor": "#2a3f5f",
           "arrowhead": 0,
           "arrowwidth": 1
          },
          "autotypenumbers": "strict",
          "coloraxis": {
           "colorbar": {
            "outlinewidth": 0,
            "ticks": ""
           }
          },
          "colorscale": {
           "diverging": [
            [
             0,
             "#8e0152"
            ],
            [
             0.1,
             "#c51b7d"
            ],
            [
             0.2,
             "#de77ae"
            ],
            [
             0.3,
             "#f1b6da"
            ],
            [
             0.4,
             "#fde0ef"
            ],
            [
             0.5,
             "#f7f7f7"
            ],
            [
             0.6,
             "#e6f5d0"
            ],
            [
             0.7,
             "#b8e186"
            ],
            [
             0.8,
             "#7fbc41"
            ],
            [
             0.9,
             "#4d9221"
            ],
            [
             1,
             "#276419"
            ]
           ],
           "sequential": [
            [
             0,
             "#0d0887"
            ],
            [
             0.1111111111111111,
             "#46039f"
            ],
            [
             0.2222222222222222,
             "#7201a8"
            ],
            [
             0.3333333333333333,
             "#9c179e"
            ],
            [
             0.4444444444444444,
             "#bd3786"
            ],
            [
             0.5555555555555556,
             "#d8576b"
            ],
            [
             0.6666666666666666,
             "#ed7953"
            ],
            [
             0.7777777777777778,
             "#fb9f3a"
            ],
            [
             0.8888888888888888,
             "#fdca26"
            ],
            [
             1,
             "#f0f921"
            ]
           ],
           "sequentialminus": [
            [
             0,
             "#0d0887"
            ],
            [
             0.1111111111111111,
             "#46039f"
            ],
            [
             0.2222222222222222,
             "#7201a8"
            ],
            [
             0.3333333333333333,
             "#9c179e"
            ],
            [
             0.4444444444444444,
             "#bd3786"
            ],
            [
             0.5555555555555556,
             "#d8576b"
            ],
            [
             0.6666666666666666,
             "#ed7953"
            ],
            [
             0.7777777777777778,
             "#fb9f3a"
            ],
            [
             0.8888888888888888,
             "#fdca26"
            ],
            [
             1,
             "#f0f921"
            ]
           ]
          },
          "colorway": [
           "#636efa",
           "#EF553B",
           "#00cc96",
           "#ab63fa",
           "#FFA15A",
           "#19d3f3",
           "#FF6692",
           "#B6E880",
           "#FF97FF",
           "#FECB52"
          ],
          "font": {
           "color": "#2a3f5f"
          },
          "geo": {
           "bgcolor": "white",
           "lakecolor": "white",
           "landcolor": "#E5ECF6",
           "showlakes": true,
           "showland": true,
           "subunitcolor": "white"
          },
          "hoverlabel": {
           "align": "left"
          },
          "hovermode": "closest",
          "mapbox": {
           "style": "light"
          },
          "paper_bgcolor": "white",
          "plot_bgcolor": "#E5ECF6",
          "polar": {
           "angularaxis": {
            "gridcolor": "white",
            "linecolor": "white",
            "ticks": ""
           },
           "bgcolor": "#E5ECF6",
           "radialaxis": {
            "gridcolor": "white",
            "linecolor": "white",
            "ticks": ""
           }
          },
          "scene": {
           "xaxis": {
            "backgroundcolor": "#E5ECF6",
            "gridcolor": "white",
            "gridwidth": 2,
            "linecolor": "white",
            "showbackground": true,
            "ticks": "",
            "zerolinecolor": "white"
           },
           "yaxis": {
            "backgroundcolor": "#E5ECF6",
            "gridcolor": "white",
            "gridwidth": 2,
            "linecolor": "white",
            "showbackground": true,
            "ticks": "",
            "zerolinecolor": "white"
           },
           "zaxis": {
            "backgroundcolor": "#E5ECF6",
            "gridcolor": "white",
            "gridwidth": 2,
            "linecolor": "white",
            "showbackground": true,
            "ticks": "",
            "zerolinecolor": "white"
           }
          },
          "shapedefaults": {
           "line": {
            "color": "#2a3f5f"
           }
          },
          "ternary": {
           "aaxis": {
            "gridcolor": "white",
            "linecolor": "white",
            "ticks": ""
           },
           "baxis": {
            "gridcolor": "white",
            "linecolor": "white",
            "ticks": ""
           },
           "bgcolor": "#E5ECF6",
           "caxis": {
            "gridcolor": "white",
            "linecolor": "white",
            "ticks": ""
           }
          },
          "title": {
           "x": 0.05
          },
          "xaxis": {
           "automargin": true,
           "gridcolor": "white",
           "linecolor": "white",
           "ticks": "",
           "title": {
            "standoff": 15
           },
           "zerolinecolor": "white",
           "zerolinewidth": 2
          },
          "yaxis": {
           "automargin": true,
           "gridcolor": "white",
           "linecolor": "white",
           "ticks": "",
           "title": {
            "standoff": 15
           },
           "zerolinecolor": "white",
           "zerolinewidth": 2
          }
         }
        }
       }
      },
      "text/html": [
       "<div>                            <div id=\"1214d507-b131-4d09-846e-aa810eb02fe1\" class=\"plotly-graph-div\" style=\"height:525px; width:100%;\"></div>            <script type=\"text/javascript\">                require([\"plotly\"], function(Plotly) {                    window.PLOTLYENV=window.PLOTLYENV || {};                                    if (document.getElementById(\"1214d507-b131-4d09-846e-aa810eb02fe1\")) {                    Plotly.newPlot(                        \"1214d507-b131-4d09-846e-aa810eb02fe1\",                        [{\"connector\":{\"line\":{\"color\":\"royalblue\",\"width\":1}},\"textinfo\":\"value+percent initial+percent previous\",\"x\":[11550581,586120,120205],\"y\":[\"\\u6d4f\\u89c8\\u91cf\",\"\\u6536\\u85cf\\u91cf\",\"\\u8d2d\\u4e70\\u91cf\"],\"type\":\"funnel\"}],                        {\"template\":{\"data\":{\"histogram2dcontour\":[{\"type\":\"histogram2dcontour\",\"colorbar\":{\"outlinewidth\":0,\"ticks\":\"\"},\"colorscale\":[[0.0,\"#0d0887\"],[0.1111111111111111,\"#46039f\"],[0.2222222222222222,\"#7201a8\"],[0.3333333333333333,\"#9c179e\"],[0.4444444444444444,\"#bd3786\"],[0.5555555555555556,\"#d8576b\"],[0.6666666666666666,\"#ed7953\"],[0.7777777777777778,\"#fb9f3a\"],[0.8888888888888888,\"#fdca26\"],[1.0,\"#f0f921\"]]}],\"choropleth\":[{\"type\":\"choropleth\",\"colorbar\":{\"outlinewidth\":0,\"ticks\":\"\"}}],\"histogram2d\":[{\"type\":\"histogram2d\",\"colorbar\":{\"outlinewidth\":0,\"ticks\":\"\"},\"colorscale\":[[0.0,\"#0d0887\"],[0.1111111111111111,\"#46039f\"],[0.2222222222222222,\"#7201a8\"],[0.3333333333333333,\"#9c179e\"],[0.4444444444444444,\"#bd3786\"],[0.5555555555555556,\"#d8576b\"],[0.6666666666666666,\"#ed7953\"],[0.7777777777777778,\"#fb9f3a\"],[0.8888888888888888,\"#fdca26\"],[1.0,\"#f0f921\"]]}],\"heatmap\":[{\"type\":\"heatmap\",\"colorbar\":{\"outlinewidth\":0,\"ticks\":\"\"},\"colorscale\":[[0.0,\"#0d0887\"],[0.1111111111111111,\"#46039f\"],[0.2222222222222222,\"#7201a8\"],[0.3333333333333333,\"#9c179e\"],[0.4444444444444444,\"#bd3786\"],[0.5555555555555556,\"#d8576b\"],[0.6666666666666666,\"#ed7953\"],[0.7777777777777778,\"#fb9f3a\"],[0.8888888888888888,\"#fdca26\"],[1.0,\"#f0f921\"]]}],\"heatmapgl\":[{\"type\":\"heatmapgl\",\"colorbar\":{\"outlinewidth\":0,\"ticks\":\"\"},\"colorscale\":[[0.0,\"#0d0887\"],[0.1111111111111111,\"#46039f\"],[0.2222222222222222,\"#7201a8\"],[0.3333333333333333,\"#9c179e\"],[0.4444444444444444,\"#bd3786\"],[0.5555555555555556,\"#d8576b\"],[0.6666666666666666,\"#ed7953\"],[0.7777777777777778,\"#fb9f3a\"],[0.8888888888888888,\"#fdca26\"],[1.0,\"#f0f921\"]]}],\"contourcarpet\":[{\"type\":\"contourcarpet\",\"colorbar\":{\"outlinewidth\":0,\"ticks\":\"\"}}],\"contour\":[{\"type\":\"contour\",\"colorbar\":{\"outlinewidth\":0,\"ticks\":\"\"},\"colorscale\":[[0.0,\"#0d0887\"],[0.1111111111111111,\"#46039f\"],[0.2222222222222222,\"#7201a8\"],[0.3333333333333333,\"#9c179e\"],[0.4444444444444444,\"#bd3786\"],[0.5555555555555556,\"#d8576b\"],[0.6666666666666666,\"#ed7953\"],[0.7777777777777778,\"#fb9f3a\"],[0.8888888888888888,\"#fdca26\"],[1.0,\"#f0f921\"]]}],\"surface\":[{\"type\":\"surface\",\"colorbar\":{\"outlinewidth\":0,\"ticks\":\"\"},\"colorscale\":[[0.0,\"#0d0887\"],[0.1111111111111111,\"#46039f\"],[0.2222222222222222,\"#7201a8\"],[0.3333333333333333,\"#9c179e\"],[0.4444444444444444,\"#bd3786\"],[0.5555555555555556,\"#d8576b\"],[0.6666666666666666,\"#ed7953\"],[0.7777777777777778,\"#fb9f3a\"],[0.8888888888888888,\"#fdca26\"],[1.0,\"#f0f921\"]]}],\"mesh3d\":[{\"type\":\"mesh3d\",\"colorbar\":{\"outlinewidth\":0,\"ticks\":\"\"}}],\"scatter\":[{\"fillpattern\":{\"fillmode\":\"overlay\",\"size\":10,\"solidity\":0.2},\"type\":\"scatter\"}],\"parcoords\":[{\"type\":\"parcoords\",\"line\":{\"colorbar\":{\"outlinewidth\":0,\"ticks\":\"\"}}}],\"scatterpolargl\":[{\"type\":\"scatterpolargl\",\"marker\":{\"colorbar\":{\"outlinewidth\":0,\"ticks\":\"\"}}}],\"bar\":[{\"error_x\":{\"color\":\"#2a3f5f\"},\"error_y\":{\"color\":\"#2a3f5f\"},\"marker\":{\"line\":{\"color\":\"#E5ECF6\",\"width\":0.5},\"pattern\":{\"fillmode\":\"overlay\",\"size\":10,\"solidity\":0.2}},\"type\":\"bar\"}],\"scattergeo\":[{\"type\":\"scattergeo\",\"marker\":{\"colorbar\":{\"outlinewidth\":0,\"ticks\":\"\"}}}],\"scatterpolar\":[{\"type\":\"scatterpolar\",\"marker\":{\"colorbar\":{\"outlinewidth\":0,\"ticks\":\"\"}}}],\"histogram\":[{\"marker\":{\"pattern\":{\"fillmode\":\"overlay\",\"size\":10,\"solidity\":0.2}},\"type\":\"histogram\"}],\"scattergl\":[{\"type\":\"scattergl\",\"marker\":{\"colorbar\":{\"outlinewidth\":0,\"ticks\":\"\"}}}],\"scatter3d\":[{\"type\":\"scatter3d\",\"line\":{\"colorbar\":{\"outlinewidth\":0,\"ticks\":\"\"}},\"marker\":{\"colorbar\":{\"outlinewidth\":0,\"ticks\":\"\"}}}],\"scattermapbox\":[{\"type\":\"scattermapbox\",\"marker\":{\"colorbar\":{\"outlinewidth\":0,\"ticks\":\"\"}}}],\"scatterternary\":[{\"type\":\"scatterternary\",\"marker\":{\"colorbar\":{\"outlinewidth\":0,\"ticks\":\"\"}}}],\"scattercarpet\":[{\"type\":\"scattercarpet\",\"marker\":{\"colorbar\":{\"outlinewidth\":0,\"ticks\":\"\"}}}],\"carpet\":[{\"aaxis\":{\"endlinecolor\":\"#2a3f5f\",\"gridcolor\":\"white\",\"linecolor\":\"white\",\"minorgridcolor\":\"white\",\"startlinecolor\":\"#2a3f5f\"},\"baxis\":{\"endlinecolor\":\"#2a3f5f\",\"gridcolor\":\"white\",\"linecolor\":\"white\",\"minorgridcolor\":\"white\",\"startlinecolor\":\"#2a3f5f\"},\"type\":\"carpet\"}],\"table\":[{\"cells\":{\"fill\":{\"color\":\"#EBF0F8\"},\"line\":{\"color\":\"white\"}},\"header\":{\"fill\":{\"color\":\"#C8D4E3\"},\"line\":{\"color\":\"white\"}},\"type\":\"table\"}],\"barpolar\":[{\"marker\":{\"line\":{\"color\":\"#E5ECF6\",\"width\":0.5},\"pattern\":{\"fillmode\":\"overlay\",\"size\":10,\"solidity\":0.2}},\"type\":\"barpolar\"}],\"pie\":[{\"automargin\":true,\"type\":\"pie\"}]},\"layout\":{\"autotypenumbers\":\"strict\",\"colorway\":[\"#636efa\",\"#EF553B\",\"#00cc96\",\"#ab63fa\",\"#FFA15A\",\"#19d3f3\",\"#FF6692\",\"#B6E880\",\"#FF97FF\",\"#FECB52\"],\"font\":{\"color\":\"#2a3f5f\"},\"hovermode\":\"closest\",\"hoverlabel\":{\"align\":\"left\"},\"paper_bgcolor\":\"white\",\"plot_bgcolor\":\"#E5ECF6\",\"polar\":{\"bgcolor\":\"#E5ECF6\",\"angularaxis\":{\"gridcolor\":\"white\",\"linecolor\":\"white\",\"ticks\":\"\"},\"radialaxis\":{\"gridcolor\":\"white\",\"linecolor\":\"white\",\"ticks\":\"\"}},\"ternary\":{\"bgcolor\":\"#E5ECF6\",\"aaxis\":{\"gridcolor\":\"white\",\"linecolor\":\"white\",\"ticks\":\"\"},\"baxis\":{\"gridcolor\":\"white\",\"linecolor\":\"white\",\"ticks\":\"\"},\"caxis\":{\"gridcolor\":\"white\",\"linecolor\":\"white\",\"ticks\":\"\"}},\"coloraxis\":{\"colorbar\":{\"outlinewidth\":0,\"ticks\":\"\"}},\"colorscale\":{\"sequential\":[[0.0,\"#0d0887\"],[0.1111111111111111,\"#46039f\"],[0.2222222222222222,\"#7201a8\"],[0.3333333333333333,\"#9c179e\"],[0.4444444444444444,\"#bd3786\"],[0.5555555555555556,\"#d8576b\"],[0.6666666666666666,\"#ed7953\"],[0.7777777777777778,\"#fb9f3a\"],[0.8888888888888888,\"#fdca26\"],[1.0,\"#f0f921\"]],\"sequentialminus\":[[0.0,\"#0d0887\"],[0.1111111111111111,\"#46039f\"],[0.2222222222222222,\"#7201a8\"],[0.3333333333333333,\"#9c179e\"],[0.4444444444444444,\"#bd3786\"],[0.5555555555555556,\"#d8576b\"],[0.6666666666666666,\"#ed7953\"],[0.7777777777777778,\"#fb9f3a\"],[0.8888888888888888,\"#fdca26\"],[1.0,\"#f0f921\"]],\"diverging\":[[0,\"#8e0152\"],[0.1,\"#c51b7d\"],[0.2,\"#de77ae\"],[0.3,\"#f1b6da\"],[0.4,\"#fde0ef\"],[0.5,\"#f7f7f7\"],[0.6,\"#e6f5d0\"],[0.7,\"#b8e186\"],[0.8,\"#7fbc41\"],[0.9,\"#4d9221\"],[1,\"#276419\"]]},\"xaxis\":{\"gridcolor\":\"white\",\"linecolor\":\"white\",\"ticks\":\"\",\"title\":{\"standoff\":15},\"zerolinecolor\":\"white\",\"automargin\":true,\"zerolinewidth\":2},\"yaxis\":{\"gridcolor\":\"white\",\"linecolor\":\"white\",\"ticks\":\"\",\"title\":{\"standoff\":15},\"zerolinecolor\":\"white\",\"automargin\":true,\"zerolinewidth\":2},\"scene\":{\"xaxis\":{\"backgroundcolor\":\"#E5ECF6\",\"gridcolor\":\"white\",\"linecolor\":\"white\",\"showbackground\":true,\"ticks\":\"\",\"zerolinecolor\":\"white\",\"gridwidth\":2},\"yaxis\":{\"backgroundcolor\":\"#E5ECF6\",\"gridcolor\":\"white\",\"linecolor\":\"white\",\"showbackground\":true,\"ticks\":\"\",\"zerolinecolor\":\"white\",\"gridwidth\":2},\"zaxis\":{\"backgroundcolor\":\"#E5ECF6\",\"gridcolor\":\"white\",\"linecolor\":\"white\",\"showbackground\":true,\"ticks\":\"\",\"zerolinecolor\":\"white\",\"gridwidth\":2}},\"shapedefaults\":{\"line\":{\"color\":\"#2a3f5f\"}},\"annotationdefaults\":{\"arrowcolor\":\"#2a3f5f\",\"arrowhead\":0,\"arrowwidth\":1},\"geo\":{\"bgcolor\":\"white\",\"landcolor\":\"#E5ECF6\",\"subunitcolor\":\"white\",\"showland\":true,\"showlakes\":true,\"lakecolor\":\"white\"},\"title\":{\"x\":0.05},\"mapbox\":{\"style\":\"light\"}}}},                        {\"responsive\": true}                    ).then(function(){\n",
       "                            \n",
       "var gd = document.getElementById('1214d507-b131-4d09-846e-aa810eb02fe1');\n",
       "var x = new MutationObserver(function (mutations, observer) {{\n",
       "        var display = window.getComputedStyle(gd).display;\n",
       "        if (!display || display === 'none') {{\n",
       "            console.log([gd, 'removed!']);\n",
       "            Plotly.purge(gd);\n",
       "            observer.disconnect();\n",
       "        }}\n",
       "}});\n",
       "\n",
       "// Listen for the removal of the full notebook cells\n",
       "var notebookContainer = gd.closest('#notebook-container');\n",
       "if (notebookContainer) {{\n",
       "    x.observe(notebookContainer, {childList: true});\n",
       "}}\n",
       "\n",
       "// Listen for the clearing of the current output cell\n",
       "var outputEl = gd.closest('.output');\n",
       "if (outputEl) {{\n",
       "    x.observe(outputEl, {childList: true});\n",
       "}}\n",
       "\n",
       "                        })                };                });            </script>        </div>"
      ]
     },
     "metadata": {},
     "output_type": "display_data"
    }
   ],
   "source": [
    "from plotly import graph_objects as go\n",
    "\n",
    "fig = go.Figure(go.Funnel(\n",
    "    #x=[1000,800,400,100],  # 数据\n",
    "    #y=[\"浏览网站\",\"加购\",\"点击支付\",\"支付成功\"], # 每个阶段的名称\n",
    "    x=data1['number'],\n",
    "    y=data1['stage'],\n",
    "    textinfo = \"value + percent initial +percent previous\",   # 显示文本信息 ['label', 'text', 'percent initial', 'percent previous', 'percent total', 'value'] 前面选项的任意组合\n",
    "    connector = {\"line\": {\"color\": \"royalblue\", \"width\": 1}})\n",
    "    )\n",
    "fig.show()"
   ]
  },
  {
   "cell_type": "markdown",
   "id": "48d22b41",
   "metadata": {},
   "source": [
    "**由上图可知：<br />\n",
    "1.“浏览—收藏、加购”的转化率为5%。<br />\n",
    "2.“收藏—购买”的转化率为21%。<br />\n",
    "3.“浏览—购买”的转化率为1% <br />\n",
    "说明用户更倾向于购买已经收藏的商品**"
   ]
  },
  {
   "cell_type": "markdown",
   "id": "d23c42de",
   "metadata": {},
   "source": [
    "## 4.2 基于双十二当天用户的行为进行分析"
   ]
  },
  {
   "cell_type": "code",
   "execution_count": 23,
   "id": "82cc69e2",
   "metadata": {},
   "outputs": [
    {
     "name": "stdout",
     "output_type": "stream",
     "text": [
      "双十二用户行为转化率：\n",
      "浏览—收藏的转化率： 5.448732437837779\n",
      "收藏—购买的转化率： 43.631630142472964\n",
      "浏览—购买的转化率： 2.37737078473033\n"
     ]
    }
   ],
   "source": [
    "datas_1212_behavior = datas_1212.groupby('behavior_type')['user_id'].count()\n",
    "# 浏览量\n",
    "browse_count_1212 = datas_1212_behavior[1]\n",
    "# 收藏、加购量\n",
    "collect_cart_count_1212 = datas_1212_behavior[2]+datas_1212_behavior[3]\n",
    "# 购买量\n",
    "purchase_count_1212 = datas_1212_behavior[4]\n",
    "print(\"双十二用户行为转化率：\")\n",
    "print(\"浏览—收藏的转化率：\", (collect_cart_count_1212 / browse_count_1212)*100)\n",
    "print(\"收藏—购买的转化率：\",(purchase_count_1212/collect_cart_count_1212)*100)\n",
    "print(\"浏览—购买的转化率：\",(purchase_count_1212/browse_count_1212)*100)"
   ]
  },
  {
   "cell_type": "markdown",
   "id": "a52fac3c",
   "metadata": {},
   "source": [
    "**制作可视化漏斗图像**"
   ]
  },
  {
   "cell_type": "code",
   "execution_count": 24,
   "id": "beaccff2",
   "metadata": {},
   "outputs": [
    {
     "data": {
      "application/vnd.plotly.v1+json": {
       "config": {
        "plotlyServerURL": "https://plot.ly"
       },
       "data": [
        {
         "connector": {
          "line": {
           "color": "royalblue",
           "width": 1
          }
         },
         "textinfo": "value+percent initial+percent previous",
         "type": "funnel",
         "x": [
          641507,
          34954,
          15251
         ],
         "y": [
          "双十二浏览量",
          "双十二收藏、加购量",
          "双十二购买量"
         ]
        }
       ],
       "layout": {
        "template": {
         "data": {
          "bar": [
           {
            "error_x": {
             "color": "#2a3f5f"
            },
            "error_y": {
             "color": "#2a3f5f"
            },
            "marker": {
             "line": {
              "color": "#E5ECF6",
              "width": 0.5
             },
             "pattern": {
              "fillmode": "overlay",
              "size": 10,
              "solidity": 0.2
             }
            },
            "type": "bar"
           }
          ],
          "barpolar": [
           {
            "marker": {
             "line": {
              "color": "#E5ECF6",
              "width": 0.5
             },
             "pattern": {
              "fillmode": "overlay",
              "size": 10,
              "solidity": 0.2
             }
            },
            "type": "barpolar"
           }
          ],
          "carpet": [
           {
            "aaxis": {
             "endlinecolor": "#2a3f5f",
             "gridcolor": "white",
             "linecolor": "white",
             "minorgridcolor": "white",
             "startlinecolor": "#2a3f5f"
            },
            "baxis": {
             "endlinecolor": "#2a3f5f",
             "gridcolor": "white",
             "linecolor": "white",
             "minorgridcolor": "white",
             "startlinecolor": "#2a3f5f"
            },
            "type": "carpet"
           }
          ],
          "choropleth": [
           {
            "colorbar": {
             "outlinewidth": 0,
             "ticks": ""
            },
            "type": "choropleth"
           }
          ],
          "contour": [
           {
            "colorbar": {
             "outlinewidth": 0,
             "ticks": ""
            },
            "colorscale": [
             [
              0,
              "#0d0887"
             ],
             [
              0.1111111111111111,
              "#46039f"
             ],
             [
              0.2222222222222222,
              "#7201a8"
             ],
             [
              0.3333333333333333,
              "#9c179e"
             ],
             [
              0.4444444444444444,
              "#bd3786"
             ],
             [
              0.5555555555555556,
              "#d8576b"
             ],
             [
              0.6666666666666666,
              "#ed7953"
             ],
             [
              0.7777777777777778,
              "#fb9f3a"
             ],
             [
              0.8888888888888888,
              "#fdca26"
             ],
             [
              1,
              "#f0f921"
             ]
            ],
            "type": "contour"
           }
          ],
          "contourcarpet": [
           {
            "colorbar": {
             "outlinewidth": 0,
             "ticks": ""
            },
            "type": "contourcarpet"
           }
          ],
          "heatmap": [
           {
            "colorbar": {
             "outlinewidth": 0,
             "ticks": ""
            },
            "colorscale": [
             [
              0,
              "#0d0887"
             ],
             [
              0.1111111111111111,
              "#46039f"
             ],
             [
              0.2222222222222222,
              "#7201a8"
             ],
             [
              0.3333333333333333,
              "#9c179e"
             ],
             [
              0.4444444444444444,
              "#bd3786"
             ],
             [
              0.5555555555555556,
              "#d8576b"
             ],
             [
              0.6666666666666666,
              "#ed7953"
             ],
             [
              0.7777777777777778,
              "#fb9f3a"
             ],
             [
              0.8888888888888888,
              "#fdca26"
             ],
             [
              1,
              "#f0f921"
             ]
            ],
            "type": "heatmap"
           }
          ],
          "heatmapgl": [
           {
            "colorbar": {
             "outlinewidth": 0,
             "ticks": ""
            },
            "colorscale": [
             [
              0,
              "#0d0887"
             ],
             [
              0.1111111111111111,
              "#46039f"
             ],
             [
              0.2222222222222222,
              "#7201a8"
             ],
             [
              0.3333333333333333,
              "#9c179e"
             ],
             [
              0.4444444444444444,
              "#bd3786"
             ],
             [
              0.5555555555555556,
              "#d8576b"
             ],
             [
              0.6666666666666666,
              "#ed7953"
             ],
             [
              0.7777777777777778,
              "#fb9f3a"
             ],
             [
              0.8888888888888888,
              "#fdca26"
             ],
             [
              1,
              "#f0f921"
             ]
            ],
            "type": "heatmapgl"
           }
          ],
          "histogram": [
           {
            "marker": {
             "pattern": {
              "fillmode": "overlay",
              "size": 10,
              "solidity": 0.2
             }
            },
            "type": "histogram"
           }
          ],
          "histogram2d": [
           {
            "colorbar": {
             "outlinewidth": 0,
             "ticks": ""
            },
            "colorscale": [
             [
              0,
              "#0d0887"
             ],
             [
              0.1111111111111111,
              "#46039f"
             ],
             [
              0.2222222222222222,
              "#7201a8"
             ],
             [
              0.3333333333333333,
              "#9c179e"
             ],
             [
              0.4444444444444444,
              "#bd3786"
             ],
             [
              0.5555555555555556,
              "#d8576b"
             ],
             [
              0.6666666666666666,
              "#ed7953"
             ],
             [
              0.7777777777777778,
              "#fb9f3a"
             ],
             [
              0.8888888888888888,
              "#fdca26"
             ],
             [
              1,
              "#f0f921"
             ]
            ],
            "type": "histogram2d"
           }
          ],
          "histogram2dcontour": [
           {
            "colorbar": {
             "outlinewidth": 0,
             "ticks": ""
            },
            "colorscale": [
             [
              0,
              "#0d0887"
             ],
             [
              0.1111111111111111,
              "#46039f"
             ],
             [
              0.2222222222222222,
              "#7201a8"
             ],
             [
              0.3333333333333333,
              "#9c179e"
             ],
             [
              0.4444444444444444,
              "#bd3786"
             ],
             [
              0.5555555555555556,
              "#d8576b"
             ],
             [
              0.6666666666666666,
              "#ed7953"
             ],
             [
              0.7777777777777778,
              "#fb9f3a"
             ],
             [
              0.8888888888888888,
              "#fdca26"
             ],
             [
              1,
              "#f0f921"
             ]
            ],
            "type": "histogram2dcontour"
           }
          ],
          "mesh3d": [
           {
            "colorbar": {
             "outlinewidth": 0,
             "ticks": ""
            },
            "type": "mesh3d"
           }
          ],
          "parcoords": [
           {
            "line": {
             "colorbar": {
              "outlinewidth": 0,
              "ticks": ""
             }
            },
            "type": "parcoords"
           }
          ],
          "pie": [
           {
            "automargin": true,
            "type": "pie"
           }
          ],
          "scatter": [
           {
            "fillpattern": {
             "fillmode": "overlay",
             "size": 10,
             "solidity": 0.2
            },
            "type": "scatter"
           }
          ],
          "scatter3d": [
           {
            "line": {
             "colorbar": {
              "outlinewidth": 0,
              "ticks": ""
             }
            },
            "marker": {
             "colorbar": {
              "outlinewidth": 0,
              "ticks": ""
             }
            },
            "type": "scatter3d"
           }
          ],
          "scattercarpet": [
           {
            "marker": {
             "colorbar": {
              "outlinewidth": 0,
              "ticks": ""
             }
            },
            "type": "scattercarpet"
           }
          ],
          "scattergeo": [
           {
            "marker": {
             "colorbar": {
              "outlinewidth": 0,
              "ticks": ""
             }
            },
            "type": "scattergeo"
           }
          ],
          "scattergl": [
           {
            "marker": {
             "colorbar": {
              "outlinewidth": 0,
              "ticks": ""
             }
            },
            "type": "scattergl"
           }
          ],
          "scattermapbox": [
           {
            "marker": {
             "colorbar": {
              "outlinewidth": 0,
              "ticks": ""
             }
            },
            "type": "scattermapbox"
           }
          ],
          "scatterpolar": [
           {
            "marker": {
             "colorbar": {
              "outlinewidth": 0,
              "ticks": ""
             }
            },
            "type": "scatterpolar"
           }
          ],
          "scatterpolargl": [
           {
            "marker": {
             "colorbar": {
              "outlinewidth": 0,
              "ticks": ""
             }
            },
            "type": "scatterpolargl"
           }
          ],
          "scatterternary": [
           {
            "marker": {
             "colorbar": {
              "outlinewidth": 0,
              "ticks": ""
             }
            },
            "type": "scatterternary"
           }
          ],
          "surface": [
           {
            "colorbar": {
             "outlinewidth": 0,
             "ticks": ""
            },
            "colorscale": [
             [
              0,
              "#0d0887"
             ],
             [
              0.1111111111111111,
              "#46039f"
             ],
             [
              0.2222222222222222,
              "#7201a8"
             ],
             [
              0.3333333333333333,
              "#9c179e"
             ],
             [
              0.4444444444444444,
              "#bd3786"
             ],
             [
              0.5555555555555556,
              "#d8576b"
             ],
             [
              0.6666666666666666,
              "#ed7953"
             ],
             [
              0.7777777777777778,
              "#fb9f3a"
             ],
             [
              0.8888888888888888,
              "#fdca26"
             ],
             [
              1,
              "#f0f921"
             ]
            ],
            "type": "surface"
           }
          ],
          "table": [
           {
            "cells": {
             "fill": {
              "color": "#EBF0F8"
             },
             "line": {
              "color": "white"
             }
            },
            "header": {
             "fill": {
              "color": "#C8D4E3"
             },
             "line": {
              "color": "white"
             }
            },
            "type": "table"
           }
          ]
         },
         "layout": {
          "annotationdefaults": {
           "arrowcolor": "#2a3f5f",
           "arrowhead": 0,
           "arrowwidth": 1
          },
          "autotypenumbers": "strict",
          "coloraxis": {
           "colorbar": {
            "outlinewidth": 0,
            "ticks": ""
           }
          },
          "colorscale": {
           "diverging": [
            [
             0,
             "#8e0152"
            ],
            [
             0.1,
             "#c51b7d"
            ],
            [
             0.2,
             "#de77ae"
            ],
            [
             0.3,
             "#f1b6da"
            ],
            [
             0.4,
             "#fde0ef"
            ],
            [
             0.5,
             "#f7f7f7"
            ],
            [
             0.6,
             "#e6f5d0"
            ],
            [
             0.7,
             "#b8e186"
            ],
            [
             0.8,
             "#7fbc41"
            ],
            [
             0.9,
             "#4d9221"
            ],
            [
             1,
             "#276419"
            ]
           ],
           "sequential": [
            [
             0,
             "#0d0887"
            ],
            [
             0.1111111111111111,
             "#46039f"
            ],
            [
             0.2222222222222222,
             "#7201a8"
            ],
            [
             0.3333333333333333,
             "#9c179e"
            ],
            [
             0.4444444444444444,
             "#bd3786"
            ],
            [
             0.5555555555555556,
             "#d8576b"
            ],
            [
             0.6666666666666666,
             "#ed7953"
            ],
            [
             0.7777777777777778,
             "#fb9f3a"
            ],
            [
             0.8888888888888888,
             "#fdca26"
            ],
            [
             1,
             "#f0f921"
            ]
           ],
           "sequentialminus": [
            [
             0,
             "#0d0887"
            ],
            [
             0.1111111111111111,
             "#46039f"
            ],
            [
             0.2222222222222222,
             "#7201a8"
            ],
            [
             0.3333333333333333,
             "#9c179e"
            ],
            [
             0.4444444444444444,
             "#bd3786"
            ],
            [
             0.5555555555555556,
             "#d8576b"
            ],
            [
             0.6666666666666666,
             "#ed7953"
            ],
            [
             0.7777777777777778,
             "#fb9f3a"
            ],
            [
             0.8888888888888888,
             "#fdca26"
            ],
            [
             1,
             "#f0f921"
            ]
           ]
          },
          "colorway": [
           "#636efa",
           "#EF553B",
           "#00cc96",
           "#ab63fa",
           "#FFA15A",
           "#19d3f3",
           "#FF6692",
           "#B6E880",
           "#FF97FF",
           "#FECB52"
          ],
          "font": {
           "color": "#2a3f5f"
          },
          "geo": {
           "bgcolor": "white",
           "lakecolor": "white",
           "landcolor": "#E5ECF6",
           "showlakes": true,
           "showland": true,
           "subunitcolor": "white"
          },
          "hoverlabel": {
           "align": "left"
          },
          "hovermode": "closest",
          "mapbox": {
           "style": "light"
          },
          "paper_bgcolor": "white",
          "plot_bgcolor": "#E5ECF6",
          "polar": {
           "angularaxis": {
            "gridcolor": "white",
            "linecolor": "white",
            "ticks": ""
           },
           "bgcolor": "#E5ECF6",
           "radialaxis": {
            "gridcolor": "white",
            "linecolor": "white",
            "ticks": ""
           }
          },
          "scene": {
           "xaxis": {
            "backgroundcolor": "#E5ECF6",
            "gridcolor": "white",
            "gridwidth": 2,
            "linecolor": "white",
            "showbackground": true,
            "ticks": "",
            "zerolinecolor": "white"
           },
           "yaxis": {
            "backgroundcolor": "#E5ECF6",
            "gridcolor": "white",
            "gridwidth": 2,
            "linecolor": "white",
            "showbackground": true,
            "ticks": "",
            "zerolinecolor": "white"
           },
           "zaxis": {
            "backgroundcolor": "#E5ECF6",
            "gridcolor": "white",
            "gridwidth": 2,
            "linecolor": "white",
            "showbackground": true,
            "ticks": "",
            "zerolinecolor": "white"
           }
          },
          "shapedefaults": {
           "line": {
            "color": "#2a3f5f"
           }
          },
          "ternary": {
           "aaxis": {
            "gridcolor": "white",
            "linecolor": "white",
            "ticks": ""
           },
           "baxis": {
            "gridcolor": "white",
            "linecolor": "white",
            "ticks": ""
           },
           "bgcolor": "#E5ECF6",
           "caxis": {
            "gridcolor": "white",
            "linecolor": "white",
            "ticks": ""
           }
          },
          "title": {
           "x": 0.05
          },
          "xaxis": {
           "automargin": true,
           "gridcolor": "white",
           "linecolor": "white",
           "ticks": "",
           "title": {
            "standoff": 15
           },
           "zerolinecolor": "white",
           "zerolinewidth": 2
          },
          "yaxis": {
           "automargin": true,
           "gridcolor": "white",
           "linecolor": "white",
           "ticks": "",
           "title": {
            "standoff": 15
           },
           "zerolinecolor": "white",
           "zerolinewidth": 2
          }
         }
        }
       }
      },
      "text/html": [
       "<div>                            <div id=\"5009e4da-4adf-4d16-9265-6954816366dd\" class=\"plotly-graph-div\" style=\"height:525px; width:100%;\"></div>            <script type=\"text/javascript\">                require([\"plotly\"], function(Plotly) {                    window.PLOTLYENV=window.PLOTLYENV || {};                                    if (document.getElementById(\"5009e4da-4adf-4d16-9265-6954816366dd\")) {                    Plotly.newPlot(                        \"5009e4da-4adf-4d16-9265-6954816366dd\",                        [{\"connector\":{\"line\":{\"color\":\"royalblue\",\"width\":1}},\"textinfo\":\"value+percent initial+percent previous\",\"x\":[641507,34954,15251],\"y\":[\"\\u53cc\\u5341\\u4e8c\\u6d4f\\u89c8\\u91cf\",\"\\u53cc\\u5341\\u4e8c\\u6536\\u85cf\\u3001\\u52a0\\u8d2d\\u91cf\",\"\\u53cc\\u5341\\u4e8c\\u8d2d\\u4e70\\u91cf\"],\"type\":\"funnel\"}],                        {\"template\":{\"data\":{\"histogram2dcontour\":[{\"type\":\"histogram2dcontour\",\"colorbar\":{\"outlinewidth\":0,\"ticks\":\"\"},\"colorscale\":[[0.0,\"#0d0887\"],[0.1111111111111111,\"#46039f\"],[0.2222222222222222,\"#7201a8\"],[0.3333333333333333,\"#9c179e\"],[0.4444444444444444,\"#bd3786\"],[0.5555555555555556,\"#d8576b\"],[0.6666666666666666,\"#ed7953\"],[0.7777777777777778,\"#fb9f3a\"],[0.8888888888888888,\"#fdca26\"],[1.0,\"#f0f921\"]]}],\"choropleth\":[{\"type\":\"choropleth\",\"colorbar\":{\"outlinewidth\":0,\"ticks\":\"\"}}],\"histogram2d\":[{\"type\":\"histogram2d\",\"colorbar\":{\"outlinewidth\":0,\"ticks\":\"\"},\"colorscale\":[[0.0,\"#0d0887\"],[0.1111111111111111,\"#46039f\"],[0.2222222222222222,\"#7201a8\"],[0.3333333333333333,\"#9c179e\"],[0.4444444444444444,\"#bd3786\"],[0.5555555555555556,\"#d8576b\"],[0.6666666666666666,\"#ed7953\"],[0.7777777777777778,\"#fb9f3a\"],[0.8888888888888888,\"#fdca26\"],[1.0,\"#f0f921\"]]}],\"heatmap\":[{\"type\":\"heatmap\",\"colorbar\":{\"outlinewidth\":0,\"ticks\":\"\"},\"colorscale\":[[0.0,\"#0d0887\"],[0.1111111111111111,\"#46039f\"],[0.2222222222222222,\"#7201a8\"],[0.3333333333333333,\"#9c179e\"],[0.4444444444444444,\"#bd3786\"],[0.5555555555555556,\"#d8576b\"],[0.6666666666666666,\"#ed7953\"],[0.7777777777777778,\"#fb9f3a\"],[0.8888888888888888,\"#fdca26\"],[1.0,\"#f0f921\"]]}],\"heatmapgl\":[{\"type\":\"heatmapgl\",\"colorbar\":{\"outlinewidth\":0,\"ticks\":\"\"},\"colorscale\":[[0.0,\"#0d0887\"],[0.1111111111111111,\"#46039f\"],[0.2222222222222222,\"#7201a8\"],[0.3333333333333333,\"#9c179e\"],[0.4444444444444444,\"#bd3786\"],[0.5555555555555556,\"#d8576b\"],[0.6666666666666666,\"#ed7953\"],[0.7777777777777778,\"#fb9f3a\"],[0.8888888888888888,\"#fdca26\"],[1.0,\"#f0f921\"]]}],\"contourcarpet\":[{\"type\":\"contourcarpet\",\"colorbar\":{\"outlinewidth\":0,\"ticks\":\"\"}}],\"contour\":[{\"type\":\"contour\",\"colorbar\":{\"outlinewidth\":0,\"ticks\":\"\"},\"colorscale\":[[0.0,\"#0d0887\"],[0.1111111111111111,\"#46039f\"],[0.2222222222222222,\"#7201a8\"],[0.3333333333333333,\"#9c179e\"],[0.4444444444444444,\"#bd3786\"],[0.5555555555555556,\"#d8576b\"],[0.6666666666666666,\"#ed7953\"],[0.7777777777777778,\"#fb9f3a\"],[0.8888888888888888,\"#fdca26\"],[1.0,\"#f0f921\"]]}],\"surface\":[{\"type\":\"surface\",\"colorbar\":{\"outlinewidth\":0,\"ticks\":\"\"},\"colorscale\":[[0.0,\"#0d0887\"],[0.1111111111111111,\"#46039f\"],[0.2222222222222222,\"#7201a8\"],[0.3333333333333333,\"#9c179e\"],[0.4444444444444444,\"#bd3786\"],[0.5555555555555556,\"#d8576b\"],[0.6666666666666666,\"#ed7953\"],[0.7777777777777778,\"#fb9f3a\"],[0.8888888888888888,\"#fdca26\"],[1.0,\"#f0f921\"]]}],\"mesh3d\":[{\"type\":\"mesh3d\",\"colorbar\":{\"outlinewidth\":0,\"ticks\":\"\"}}],\"scatter\":[{\"fillpattern\":{\"fillmode\":\"overlay\",\"size\":10,\"solidity\":0.2},\"type\":\"scatter\"}],\"parcoords\":[{\"type\":\"parcoords\",\"line\":{\"colorbar\":{\"outlinewidth\":0,\"ticks\":\"\"}}}],\"scatterpolargl\":[{\"type\":\"scatterpolargl\",\"marker\":{\"colorbar\":{\"outlinewidth\":0,\"ticks\":\"\"}}}],\"bar\":[{\"error_x\":{\"color\":\"#2a3f5f\"},\"error_y\":{\"color\":\"#2a3f5f\"},\"marker\":{\"line\":{\"color\":\"#E5ECF6\",\"width\":0.5},\"pattern\":{\"fillmode\":\"overlay\",\"size\":10,\"solidity\":0.2}},\"type\":\"bar\"}],\"scattergeo\":[{\"type\":\"scattergeo\",\"marker\":{\"colorbar\":{\"outlinewidth\":0,\"ticks\":\"\"}}}],\"scatterpolar\":[{\"type\":\"scatterpolar\",\"marker\":{\"colorbar\":{\"outlinewidth\":0,\"ticks\":\"\"}}}],\"histogram\":[{\"marker\":{\"pattern\":{\"fillmode\":\"overlay\",\"size\":10,\"solidity\":0.2}},\"type\":\"histogram\"}],\"scattergl\":[{\"type\":\"scattergl\",\"marker\":{\"colorbar\":{\"outlinewidth\":0,\"ticks\":\"\"}}}],\"scatter3d\":[{\"type\":\"scatter3d\",\"line\":{\"colorbar\":{\"outlinewidth\":0,\"ticks\":\"\"}},\"marker\":{\"colorbar\":{\"outlinewidth\":0,\"ticks\":\"\"}}}],\"scattermapbox\":[{\"type\":\"scattermapbox\",\"marker\":{\"colorbar\":{\"outlinewidth\":0,\"ticks\":\"\"}}}],\"scatterternary\":[{\"type\":\"scatterternary\",\"marker\":{\"colorbar\":{\"outlinewidth\":0,\"ticks\":\"\"}}}],\"scattercarpet\":[{\"type\":\"scattercarpet\",\"marker\":{\"colorbar\":{\"outlinewidth\":0,\"ticks\":\"\"}}}],\"carpet\":[{\"aaxis\":{\"endlinecolor\":\"#2a3f5f\",\"gridcolor\":\"white\",\"linecolor\":\"white\",\"minorgridcolor\":\"white\",\"startlinecolor\":\"#2a3f5f\"},\"baxis\":{\"endlinecolor\":\"#2a3f5f\",\"gridcolor\":\"white\",\"linecolor\":\"white\",\"minorgridcolor\":\"white\",\"startlinecolor\":\"#2a3f5f\"},\"type\":\"carpet\"}],\"table\":[{\"cells\":{\"fill\":{\"color\":\"#EBF0F8\"},\"line\":{\"color\":\"white\"}},\"header\":{\"fill\":{\"color\":\"#C8D4E3\"},\"line\":{\"color\":\"white\"}},\"type\":\"table\"}],\"barpolar\":[{\"marker\":{\"line\":{\"color\":\"#E5ECF6\",\"width\":0.5},\"pattern\":{\"fillmode\":\"overlay\",\"size\":10,\"solidity\":0.2}},\"type\":\"barpolar\"}],\"pie\":[{\"automargin\":true,\"type\":\"pie\"}]},\"layout\":{\"autotypenumbers\":\"strict\",\"colorway\":[\"#636efa\",\"#EF553B\",\"#00cc96\",\"#ab63fa\",\"#FFA15A\",\"#19d3f3\",\"#FF6692\",\"#B6E880\",\"#FF97FF\",\"#FECB52\"],\"font\":{\"color\":\"#2a3f5f\"},\"hovermode\":\"closest\",\"hoverlabel\":{\"align\":\"left\"},\"paper_bgcolor\":\"white\",\"plot_bgcolor\":\"#E5ECF6\",\"polar\":{\"bgcolor\":\"#E5ECF6\",\"angularaxis\":{\"gridcolor\":\"white\",\"linecolor\":\"white\",\"ticks\":\"\"},\"radialaxis\":{\"gridcolor\":\"white\",\"linecolor\":\"white\",\"ticks\":\"\"}},\"ternary\":{\"bgcolor\":\"#E5ECF6\",\"aaxis\":{\"gridcolor\":\"white\",\"linecolor\":\"white\",\"ticks\":\"\"},\"baxis\":{\"gridcolor\":\"white\",\"linecolor\":\"white\",\"ticks\":\"\"},\"caxis\":{\"gridcolor\":\"white\",\"linecolor\":\"white\",\"ticks\":\"\"}},\"coloraxis\":{\"colorbar\":{\"outlinewidth\":0,\"ticks\":\"\"}},\"colorscale\":{\"sequential\":[[0.0,\"#0d0887\"],[0.1111111111111111,\"#46039f\"],[0.2222222222222222,\"#7201a8\"],[0.3333333333333333,\"#9c179e\"],[0.4444444444444444,\"#bd3786\"],[0.5555555555555556,\"#d8576b\"],[0.6666666666666666,\"#ed7953\"],[0.7777777777777778,\"#fb9f3a\"],[0.8888888888888888,\"#fdca26\"],[1.0,\"#f0f921\"]],\"sequentialminus\":[[0.0,\"#0d0887\"],[0.1111111111111111,\"#46039f\"],[0.2222222222222222,\"#7201a8\"],[0.3333333333333333,\"#9c179e\"],[0.4444444444444444,\"#bd3786\"],[0.5555555555555556,\"#d8576b\"],[0.6666666666666666,\"#ed7953\"],[0.7777777777777778,\"#fb9f3a\"],[0.8888888888888888,\"#fdca26\"],[1.0,\"#f0f921\"]],\"diverging\":[[0,\"#8e0152\"],[0.1,\"#c51b7d\"],[0.2,\"#de77ae\"],[0.3,\"#f1b6da\"],[0.4,\"#fde0ef\"],[0.5,\"#f7f7f7\"],[0.6,\"#e6f5d0\"],[0.7,\"#b8e186\"],[0.8,\"#7fbc41\"],[0.9,\"#4d9221\"],[1,\"#276419\"]]},\"xaxis\":{\"gridcolor\":\"white\",\"linecolor\":\"white\",\"ticks\":\"\",\"title\":{\"standoff\":15},\"zerolinecolor\":\"white\",\"automargin\":true,\"zerolinewidth\":2},\"yaxis\":{\"gridcolor\":\"white\",\"linecolor\":\"white\",\"ticks\":\"\",\"title\":{\"standoff\":15},\"zerolinecolor\":\"white\",\"automargin\":true,\"zerolinewidth\":2},\"scene\":{\"xaxis\":{\"backgroundcolor\":\"#E5ECF6\",\"gridcolor\":\"white\",\"linecolor\":\"white\",\"showbackground\":true,\"ticks\":\"\",\"zerolinecolor\":\"white\",\"gridwidth\":2},\"yaxis\":{\"backgroundcolor\":\"#E5ECF6\",\"gridcolor\":\"white\",\"linecolor\":\"white\",\"showbackground\":true,\"ticks\":\"\",\"zerolinecolor\":\"white\",\"gridwidth\":2},\"zaxis\":{\"backgroundcolor\":\"#E5ECF6\",\"gridcolor\":\"white\",\"linecolor\":\"white\",\"showbackground\":true,\"ticks\":\"\",\"zerolinecolor\":\"white\",\"gridwidth\":2}},\"shapedefaults\":{\"line\":{\"color\":\"#2a3f5f\"}},\"annotationdefaults\":{\"arrowcolor\":\"#2a3f5f\",\"arrowhead\":0,\"arrowwidth\":1},\"geo\":{\"bgcolor\":\"white\",\"landcolor\":\"#E5ECF6\",\"subunitcolor\":\"white\",\"showland\":true,\"showlakes\":true,\"lakecolor\":\"white\"},\"title\":{\"x\":0.05},\"mapbox\":{\"style\":\"light\"}}}},                        {\"responsive\": true}                    ).then(function(){\n",
       "                            \n",
       "var gd = document.getElementById('5009e4da-4adf-4d16-9265-6954816366dd');\n",
       "var x = new MutationObserver(function (mutations, observer) {{\n",
       "        var display = window.getComputedStyle(gd).display;\n",
       "        if (!display || display === 'none') {{\n",
       "            console.log([gd, 'removed!']);\n",
       "            Plotly.purge(gd);\n",
       "            observer.disconnect();\n",
       "        }}\n",
       "}});\n",
       "\n",
       "// Listen for the removal of the full notebook cells\n",
       "var notebookContainer = gd.closest('#notebook-container');\n",
       "if (notebookContainer) {{\n",
       "    x.observe(notebookContainer, {childList: true});\n",
       "}}\n",
       "\n",
       "// Listen for the clearing of the current output cell\n",
       "var outputEl = gd.closest('.output');\n",
       "if (outputEl) {{\n",
       "    x.observe(outputEl, {childList: true});\n",
       "}}\n",
       "\n",
       "                        })                };                });            </script>        </div>"
      ]
     },
     "metadata": {},
     "output_type": "display_data"
    }
   ],
   "source": [
    "funnel_1212 = go.Figure(go.Funnel(\n",
    "    #x=[1000,800,400,100],  # 数据\n",
    "    #y=[\"浏览网站\",\"加购\",\"点击支付\",\"支付成功\"], # 每个阶段的名称\n",
    "    x=[int(browse_count_1212), int(collect_cart_count_1212), int(purchase_count_1212)],\n",
    "    y=[\"双十二浏览量\", \"双十二收藏、加购量\", \"双十二购买量\"],\n",
    "    textinfo = \"value + percent initial + percent previous\",   # 显示文本信息 ['label', 'text', 'percent initial', 'percent previous', 'percent total', 'value'] 前面选项的任意组合\n",
    "    connector = {\"line\": {\"color\": \"royalblue\", \"width\": 1}})\n",
    "    )\n",
    "funnel_1212.show()"
   ]
  },
  {
   "cell_type": "markdown",
   "id": "12b49cc3",
   "metadata": {},
   "source": [
    "**双十二用户行为转化率情况：<br/>\n",
    "浏览—收藏的转化率： 5% <br/>\n",
    "收藏—购买的转化率： 44% <br/>\n",
    "浏览—购买的转化率： 2% <br/>\n",
    "从以上转化率得出，在双十二当天“收藏—购买”的转化率高达44%，为平时的2倍之多，说明用户更倾向于在双十二当天购买所收藏的商品，双十二的活动对用户下单起到了很好的促进作用**"
   ]
  },
  {
   "cell_type": "markdown",
   "id": "d8c2949b",
   "metadata": {},
   "source": [
    "# 5. 用户购买频次分析"
   ]
  },
  {
   "cell_type": "code",
   "execution_count": 25,
   "id": "2758764a",
   "metadata": {},
   "outputs": [
    {
     "data": {
      "text/html": [
       "<div>\n",
       "<style scoped>\n",
       "    .dataframe tbody tr th:only-of-type {\n",
       "        vertical-align: middle;\n",
       "    }\n",
       "\n",
       "    .dataframe tbody tr th {\n",
       "        vertical-align: top;\n",
       "    }\n",
       "\n",
       "    .dataframe thead th {\n",
       "        text-align: right;\n",
       "    }\n",
       "</style>\n",
       "<table border=\"1\" class=\"dataframe\">\n",
       "  <thead>\n",
       "    <tr style=\"text-align: right;\">\n",
       "      <th></th>\n",
       "      <th>user_id</th>\n",
       "      <th>behavior_type_4_count</th>\n",
       "    </tr>\n",
       "  </thead>\n",
       "  <tbody>\n",
       "    <tr>\n",
       "      <th>0</th>\n",
       "      <td>4913</td>\n",
       "      <td>6</td>\n",
       "    </tr>\n",
       "    <tr>\n",
       "      <th>1</th>\n",
       "      <td>6118</td>\n",
       "      <td>1</td>\n",
       "    </tr>\n",
       "    <tr>\n",
       "      <th>2</th>\n",
       "      <td>7528</td>\n",
       "      <td>6</td>\n",
       "    </tr>\n",
       "    <tr>\n",
       "      <th>3</th>\n",
       "      <td>7591</td>\n",
       "      <td>21</td>\n",
       "    </tr>\n",
       "    <tr>\n",
       "      <th>4</th>\n",
       "      <td>12645</td>\n",
       "      <td>8</td>\n",
       "    </tr>\n",
       "    <tr>\n",
       "      <th>...</th>\n",
       "      <td>...</td>\n",
       "      <td>...</td>\n",
       "    </tr>\n",
       "    <tr>\n",
       "      <th>8881</th>\n",
       "      <td>142376113</td>\n",
       "      <td>1</td>\n",
       "    </tr>\n",
       "    <tr>\n",
       "      <th>8882</th>\n",
       "      <td>142412247</td>\n",
       "      <td>12</td>\n",
       "    </tr>\n",
       "    <tr>\n",
       "      <th>8883</th>\n",
       "      <td>142430177</td>\n",
       "      <td>5</td>\n",
       "    </tr>\n",
       "    <tr>\n",
       "      <th>8884</th>\n",
       "      <td>142450275</td>\n",
       "      <td>40</td>\n",
       "    </tr>\n",
       "    <tr>\n",
       "      <th>8885</th>\n",
       "      <td>142455899</td>\n",
       "      <td>13</td>\n",
       "    </tr>\n",
       "  </tbody>\n",
       "</table>\n",
       "<p>8886 rows × 2 columns</p>\n",
       "</div>"
      ],
      "text/plain": [
       "        user_id  behavior_type_4_count\n",
       "0          4913                      6\n",
       "1          6118                      1\n",
       "2          7528                      6\n",
       "3          7591                     21\n",
       "4         12645                      8\n",
       "...         ...                    ...\n",
       "8881  142376113                      1\n",
       "8882  142412247                     12\n",
       "8883  142430177                      5\n",
       "8884  142450275                     40\n",
       "8885  142455899                     13\n",
       "\n",
       "[8886 rows x 2 columns]"
      ]
     },
     "execution_count": 25,
     "metadata": {},
     "output_type": "execute_result"
    }
   ],
   "source": [
    "# 筛选出behavior_type为4的记录，把按照用户id进行分组，挑选出behavior_type列，并进行计数\n",
    "data_user_buy = datas[datas.behavior_type==4].groupby('user_id')['behavior_type'].count()\n",
    "data_user_buy = data_user_buy.reset_index()\n",
    "data_user_buy = data_user_buy.rename(columns={'behavior_type':'behavior_type_4_count'})\n",
    "data_user_buy"
   ]
  },
  {
   "cell_type": "markdown",
   "id": "a73b43b9",
   "metadata": {},
   "source": [
    "**共有8886条记录，说明1万名用户中，有接近9千名用户产生了购买行为**"
   ]
  },
  {
   "cell_type": "code",
   "execution_count": 26,
   "id": "5187c76f",
   "metadata": {},
   "outputs": [
    {
     "data": {
      "text/plain": [
       "<matplotlib.axes._subplots.AxesSubplot at 0x1f8a278f588>"
      ]
     },
     "execution_count": 26,
     "metadata": {},
     "output_type": "execute_result"
    },
    {
     "data": {
      "image/png": "[encoded data removed]",
      "text/plain": [
       "<Figure size 432x288 with 1 Axes>"
      ]
     },
     "metadata": {
      "needs_background": "light"
     },
     "output_type": "display_data"
    }
   ],
   "source": [
    "data_user_buy.plot(x='user_id',y='behavior_type_4_count')"
   ]
  },
  {
   "cell_type": "markdown",
   "id": "7f244580",
   "metadata": {},
   "source": [
    "**部分数值过高，影响观察，剔除超过200的异常值：**"
   ]
  },
  {
   "cell_type": "code",
   "execution_count": 89,
   "id": "d00e6c6b",
   "metadata": {},
   "outputs": [
    {
     "data": {
      "text/plain": [
       "Text(0, 1.05, '购买次数')"
      ]
     },
     "execution_count": 89,
     "metadata": {},
     "output_type": "execute_result"
    },
    {
     "data": {
      "image/png": "[encoded data removed]",
      "text/plain": [
       "<Figure size 1080x360 with 1 Axes>"
      ]
     },
     "metadata": {
      "needs_background": "light"
     },
     "output_type": "display_data"
    }
   ],
   "source": [
    "data_user_buy_cleanned = data_user_buy[data_user_buy[\"behavior_type_4_count\"] <200]\n",
    "data_user_buy_cleanned.plot(x='user_id',y='behavior_type_4_count',figsize=(15,5))\n",
    "plt.ylabel('购买次数',rotation=0,y=1.05)"
   ]
  },
  {
   "cell_type": "markdown",
   "id": "98abf532",
   "metadata": {},
   "source": [
    "**大部分用户的购买次数在1-50之间**"
   ]
  },
  {
   "cell_type": "markdown",
   "id": "5b639515",
   "metadata": {},
   "source": [
    "# 6.ARPU分析\n",
    "ARPU 的计算方法是将总收入除以一段时间内的平均用户数，由于该数据集没有金额，因此把金额改为计算用户的消费次数"
   ]
  },
  {
   "cell_type": "code",
   "execution_count": 28,
   "id": "dc530859",
   "metadata": {},
   "outputs": [
    {
     "data": {
      "text/plain": [
       "date\n",
       "2014-11-18    0.588050\n",
       "2014-11-19    0.574143\n",
       "2014-11-20    0.546660\n",
       "2014-11-21    0.481358\n",
       "2014-11-22    0.577016\n",
       "2014-11-23    0.525184\n",
       "2014-11-24    0.526025\n",
       "2014-11-25    0.545426\n",
       "2014-11-26    0.562058\n",
       "2014-11-27    0.577135\n",
       "2014-11-28    0.519955\n",
       "2014-11-29    0.515906\n",
       "2014-11-30    0.566860\n",
       "2014-12-01    0.597341\n",
       "2014-12-02    0.552824\n",
       "2014-12-03    0.589977\n",
       "2014-12-04    0.565151\n",
       "2014-12-05    0.521282\n",
       "2014-12-06    0.508075\n",
       "2014-12-07    0.507007\n",
       "2014-12-08    0.520871\n",
       "2014-12-09    0.525282\n",
       "2014-12-10    0.483464\n",
       "2014-12-11    0.467943\n",
       "2014-12-12    1.975518\n",
       "2014-12-13    0.513282\n",
       "2014-12-14    0.522346\n",
       "2014-12-15    0.554590\n",
       "2014-12-16    0.560410\n",
       "2014-12-17    0.544182\n",
       "2014-12-18    0.544819\n",
       "dtype: float64"
      ]
     },
     "execution_count": 28,
     "metadata": {},
     "output_type": "execute_result"
    }
   ],
   "source": [
    "#给数据新增一列action，表示用户的操作，具体用于计算用户购买行为（behavior_type=4）的次数\n",
    "datas['action'] = 1\n",
    "#对每个日期，按照用户id，用户行为进行分类。即一个用户在同一个日期上，分别计算在该日期上分别操作不同行为多少次\n",
    "purchase_count = datas.groupby(['date','user_id','behavior_type'])['action'].count()\n",
    "purchase_count = purchase_count.reset_index()\n",
    "#每日具有购买行为（behavior_type=4）的人数 / 每日的活跃用户数\n",
    "arpu = purchase_count.groupby('date').apply(lambda x:x[x['behavior_type']==4]['action'].sum() / len(x['user_id'].unique()))\n",
    "arpu"
   ]
  },
  {
   "cell_type": "code",
   "execution_count": 83,
   "id": "6d54c7a3",
   "metadata": {},
   "outputs": [
    {
     "data": {
      "text/plain": [
       "Text(0, 1, '日平均消费次数')"
      ]
     },
     "execution_count": 83,
     "metadata": {},
     "output_type": "execute_result"
    },
    {
     "data": {
      "image/png": "[encoded data removed]",
      "text/plain": [
       "<Figure size 432x288 with 1 Axes>"
      ]
     },
     "metadata": {
      "needs_background": "light"
     },
     "output_type": "display_data"
    }
   ],
   "source": [
    "arpu.plot()\n",
    "plt.title('ARPU')\n",
    "plt.ylabel('日平均消费次数',rotation=0,y=1)"
   ]
  },
  {
   "cell_type": "code",
   "execution_count": 30,
   "id": "29e561d0",
   "metadata": {},
   "outputs": [
    {
     "data": {
      "text/plain": [
       "0.5858109446189442"
      ]
     },
     "execution_count": 30,
     "metadata": {},
     "output_type": "execute_result"
    }
   ],
   "source": [
    "arpu.mean()"
   ]
  },
  {
   "cell_type": "markdown",
   "id": "7f1cd2c5",
   "metadata": {},
   "source": [
    "**可以看出，活跃用户每天平均消费次数约为0.6次，在双十二当天到达最高值约2次，为平时的2倍**"
   ]
  },
  {
   "cell_type": "markdown",
   "id": "51102e71",
   "metadata": {},
   "source": [
    "## 6.2 下单率"
   ]
  },
  {
   "cell_type": "code",
   "execution_count": 31,
   "id": "0f56a31a",
   "metadata": {},
   "outputs": [
    {
     "data": {
      "text/plain": [
       "date\n",
       "2014-11-18    0.242630\n",
       "2014-11-19    0.235358\n",
       "2014-11-20    0.235591\n",
       "2014-11-21    0.211918\n",
       "2014-11-22    0.228059\n",
       "2014-11-23    0.225326\n",
       "2014-11-24    0.233994\n",
       "2014-11-25    0.235711\n",
       "2014-11-26    0.233915\n",
       "2014-11-27    0.240132\n",
       "2014-11-28    0.232994\n",
       "2014-11-29    0.221240\n",
       "2014-11-30    0.240477\n",
       "2014-12-01    0.253209\n",
       "2014-12-02    0.241985\n",
       "2014-12-03    0.257707\n",
       "2014-12-04    0.242689\n",
       "2014-12-05    0.234490\n",
       "2014-12-06    0.225466\n",
       "2014-12-07    0.218468\n",
       "2014-12-08    0.236289\n",
       "2014-12-09    0.217636\n",
       "2014-12-10    0.216777\n",
       "2014-12-11    0.210183\n",
       "2014-12-12    0.504793\n",
       "2014-12-13    0.228601\n",
       "2014-12-14    0.225855\n",
       "2014-12-15    0.239723\n",
       "2014-12-16    0.245207\n",
       "2014-12-17    0.236339\n",
       "2014-12-18    0.235795\n",
       "dtype: float64"
      ]
     },
     "execution_count": 31,
     "metadata": {},
     "output_type": "execute_result"
    }
   ],
   "source": [
    "purchase_rate = purchase_count.groupby('date').apply(lambda x:x[x['behavior_type']==4]['action'].count() / len(x['user_id'].unique()))\n",
    "purchase_rate"
   ]
  },
  {
   "cell_type": "code",
   "execution_count": 79,
   "id": "29a5631c",
   "metadata": {},
   "outputs": [
    {
     "data": {
      "text/plain": [
       "Text(1, 0, '日期（天）')"
      ]
     },
     "execution_count": 79,
     "metadata": {},
     "output_type": "execute_result"
    },
    {
     "data": {
      "image/png": "[encoded data removed]",
      "text/plain": [
       "<Figure size 432x288 with 1 Axes>"
      ]
     },
     "metadata": {
      "needs_background": "light"
     },
     "output_type": "display_data"
    }
   ],
   "source": [
    "purchase_rate.plot()\n",
    "plt.ylabel(\"下单率\",rotation=0,y=1)\n",
    "plt.xlabel(\"日期（天）\",x=1)"
   ]
  },
  {
   "cell_type": "markdown",
   "id": "9b9bf8ea",
   "metadata": {},
   "source": [
    "**上述数据可知，平时下单率在25%左右，而双十二当天的下单率为50%**"
   ]
  },
  {
   "cell_type": "markdown",
   "id": "034b6dd3",
   "metadata": {},
   "source": [
    "# 7.ARPPU分析"
   ]
  },
  {
   "cell_type": "code",
   "execution_count": 33,
   "id": "6cbcd94f",
   "metadata": {},
   "outputs": [
    {
     "data": {
      "text/html": [
       "<div>\n",
       "<style scoped>\n",
       "    .dataframe tbody tr th:only-of-type {\n",
       "        vertical-align: middle;\n",
       "    }\n",
       "\n",
       "    .dataframe tbody tr th {\n",
       "        vertical-align: top;\n",
       "    }\n",
       "\n",
       "    .dataframe thead th {\n",
       "        text-align: right;\n",
       "    }\n",
       "</style>\n",
       "<table border=\"1\" class=\"dataframe\">\n",
       "  <thead>\n",
       "    <tr style=\"text-align: right;\">\n",
       "      <th></th>\n",
       "      <th>date</th>\n",
       "      <th>user_id</th>\n",
       "      <th>buy_count</th>\n",
       "    </tr>\n",
       "  </thead>\n",
       "  <tbody>\n",
       "    <tr>\n",
       "      <th>0</th>\n",
       "      <td>2014-11-18</td>\n",
       "      <td>54056</td>\n",
       "      <td>1</td>\n",
       "    </tr>\n",
       "    <tr>\n",
       "      <th>1</th>\n",
       "      <td>2014-11-18</td>\n",
       "      <td>79824</td>\n",
       "      <td>2</td>\n",
       "    </tr>\n",
       "    <tr>\n",
       "      <th>2</th>\n",
       "      <td>2014-11-18</td>\n",
       "      <td>88930</td>\n",
       "      <td>2</td>\n",
       "    </tr>\n",
       "    <tr>\n",
       "      <th>3</th>\n",
       "      <td>2014-11-18</td>\n",
       "      <td>247543</td>\n",
       "      <td>5</td>\n",
       "    </tr>\n",
       "    <tr>\n",
       "      <th>4</th>\n",
       "      <td>2014-11-18</td>\n",
       "      <td>475826</td>\n",
       "      <td>3</td>\n",
       "    </tr>\n",
       "    <tr>\n",
       "      <th>...</th>\n",
       "      <td>...</td>\n",
       "      <td>...</td>\n",
       "      <td>...</td>\n",
       "    </tr>\n",
       "    <tr>\n",
       "      <th>49196</th>\n",
       "      <td>2014-12-18</td>\n",
       "      <td>142138619</td>\n",
       "      <td>1</td>\n",
       "    </tr>\n",
       "    <tr>\n",
       "      <th>49197</th>\n",
       "      <td>2014-12-18</td>\n",
       "      <td>142168798</td>\n",
       "      <td>2</td>\n",
       "    </tr>\n",
       "    <tr>\n",
       "      <th>49198</th>\n",
       "      <td>2014-12-18</td>\n",
       "      <td>142244794</td>\n",
       "      <td>1</td>\n",
       "    </tr>\n",
       "    <tr>\n",
       "      <th>49199</th>\n",
       "      <td>2014-12-18</td>\n",
       "      <td>142306361</td>\n",
       "      <td>2</td>\n",
       "    </tr>\n",
       "    <tr>\n",
       "      <th>49200</th>\n",
       "      <td>2014-12-18</td>\n",
       "      <td>142430177</td>\n",
       "      <td>1</td>\n",
       "    </tr>\n",
       "  </tbody>\n",
       "</table>\n",
       "<p>49201 rows × 3 columns</p>\n",
       "</div>"
      ],
      "text/plain": [
       "            date    user_id  buy_count\n",
       "0     2014-11-18      54056          1\n",
       "1     2014-11-18      79824          2\n",
       "2     2014-11-18      88930          2\n",
       "3     2014-11-18     247543          5\n",
       "4     2014-11-18     475826          3\n",
       "...          ...        ...        ...\n",
       "49196 2014-12-18  142138619          1\n",
       "49197 2014-12-18  142168798          2\n",
       "49198 2014-12-18  142244794          1\n",
       "49199 2014-12-18  142306361          2\n",
       "49200 2014-12-18  142430177          1\n",
       "\n",
       "[49201 rows x 3 columns]"
      ]
     },
     "execution_count": 33,
     "metadata": {},
     "output_type": "execute_result"
    }
   ],
   "source": [
    "#print(purchase_count)\n",
    "arppu = purchase_count[purchase_count['behavior_type']==4].groupby(['date','user_id'])['action'].sum()\n",
    "arppu = arppu.reset_index().rename(columns={'action':'buy_count'})\n",
    "arppu"
   ]
  },
  {
   "cell_type": "code",
   "execution_count": 34,
   "id": "670fd3d0",
   "metadata": {},
   "outputs": [
    {
     "data": {
      "text/plain": [
       "date\n",
       "2014-11-18    2.423652\n",
       "2014-11-19    2.439444\n",
       "2014-11-20    2.320375\n",
       "2014-11-21    2.271429\n",
       "2014-11-22    2.530120\n",
       "2014-11-23    2.330780\n",
       "2014-11-24    2.248031\n",
       "2014-11-25    2.313961\n",
       "2014-11-26    2.402824\n",
       "2014-11-27    2.403405\n",
       "2014-11-28    2.231623\n",
       "2014-11-29    2.331881\n",
       "2014-11-30    2.357236\n",
       "2014-12-01    2.359083\n",
       "2014-12-02    2.284543\n",
       "2014-12-03    2.289334\n",
       "2014-12-04    2.328707\n",
       "2014-12-05    2.223041\n",
       "2014-12-06    2.253444\n",
       "2014-12-07    2.320741\n",
       "2014-12-08    2.204384\n",
       "2014-12-09    2.413576\n",
       "2014-12-10    2.230236\n",
       "2014-12-11    2.226363\n",
       "2014-12-12    3.913523\n",
       "2014-12-13    2.245320\n",
       "2014-12-14    2.312749\n",
       "2014-12-15    2.313460\n",
       "2014-12-16    2.285455\n",
       "2014-12-17    2.302548\n",
       "2014-12-18    2.310567\n",
       "dtype: float64"
      ]
     },
     "execution_count": 34,
     "metadata": {},
     "output_type": "execute_result"
    }
   ],
   "source": [
    "arppu = arppu.groupby('date').apply(lambda x:x['buy_count'].sum() / x['user_id'].count())\n",
    "arppu"
   ]
  },
  {
   "cell_type": "code",
   "execution_count": 70,
   "id": "5ec188f5",
   "metadata": {},
   "outputs": [
    {
     "data": {
      "text/plain": [
       "Text(0.9, 0, '日期（天）')"
      ]
     },
     "execution_count": 70,
     "metadata": {},
     "output_type": "execute_result"
    },
    {
     "data": {
      "image/png": "[encoded data removed]",
      "text/plain": [
       "<Figure size 432x288 with 1 Axes>"
      ]
     },
     "metadata": {
      "needs_background": "light"
     },
     "output_type": "display_data"
    }
   ],
   "source": [
    "arppu.plot()\n",
    "plt.title('ARPPU')\n",
    "plt.ylabel(\"日平均消费次数\",rotation=0,y=1.05)\n",
    "plt.xlabel(\"日期（天）\",x=0.9)"
   ]
  },
  {
   "cell_type": "code",
   "execution_count": 36,
   "id": "830ab298",
   "metadata": {},
   "outputs": [
    {
     "data": {
      "text/plain": [
       "count    31.000000\n",
       "mean      2.368446\n",
       "std       0.296108\n",
       "min       2.204384\n",
       "25%       2.262436\n",
       "50%       2.313460\n",
       "75%       2.358159\n",
       "max       3.913523\n",
       "dtype: float64"
      ]
     },
     "execution_count": 36,
     "metadata": {},
     "output_type": "execute_result"
    }
   ],
   "source": [
    "arppu.describe()"
   ]
  },
  {
   "cell_type": "markdown",
   "id": "5933467d",
   "metadata": {},
   "source": [
    "**可看出，对于有购买行为的用户，其每日平均消费次数为2.3。而双十二当天的人均消费次数为3.9**"
   ]
  },
  {
   "cell_type": "markdown",
   "id": "53efca89",
   "metadata": {},
   "source": [
    "# 8.复购情况分析\n",
    "复购率的计算方式为：复购率 = 复购用户数量 / 有购买行为的用户数量。\n",
    "其中，复购用户数量是指在两天以上产生了购买行为的用户数量"
   ]
  },
  {
   "cell_type": "code",
   "execution_count": 37,
   "id": "012e3148",
   "metadata": {},
   "outputs": [
    {
     "data": {
      "text/plain": [
       "user_id\n",
       "4913     5\n",
       "6118     1\n",
       "7528     6\n",
       "7591     9\n",
       "12645    4\n",
       "Name: date, dtype: int64"
      ]
     },
     "execution_count": 37,
     "metadata": {},
     "output_type": "execute_result"
    }
   ],
   "source": [
    "repay_user_count = datas[datas.behavior_type==4]\n",
    "repay_user_count = repay_user_count.groupby('user_id')['date'].apply(lambda x: len(x.unique()))\n",
    "repay_user_count.head(5)"
   ]
  },
  {
   "cell_type": "code",
   "execution_count": 38,
   "id": "7ec69648",
   "metadata": {},
   "outputs": [
    {
     "data": {
      "text/plain": [
       "0.8717083051991897"
      ]
     },
     "execution_count": 38,
     "metadata": {},
     "output_type": "execute_result"
    }
   ],
   "source": [
    "repay_ratio = repay_user_count[repay_user_count > 1].count() / repay_user_count.count()\n",
    "repay_ratio"
   ]
  },
  {
   "cell_type": "markdown",
   "id": "f8ab521a",
   "metadata": {},
   "source": [
    "**用户复购率为87%**"
   ]
  },
  {
   "cell_type": "markdown",
   "id": "f9d454e2",
   "metadata": {},
   "source": [
    "# 9.复购周期分析"
   ]
  },
  {
   "cell_type": "code",
   "execution_count": 39,
   "id": "d988db5e",
   "metadata": {},
   "outputs": [
    {
     "data": {
      "text/html": [
       "<div>\n",
       "<style scoped>\n",
       "    .dataframe tbody tr th:only-of-type {\n",
       "        vertical-align: middle;\n",
       "    }\n",
       "\n",
       "    .dataframe tbody tr th {\n",
       "        vertical-align: top;\n",
       "    }\n",
       "\n",
       "    .dataframe thead th {\n",
       "        text-align: right;\n",
       "    }\n",
       "</style>\n",
       "<table border=\"1\" class=\"dataframe\">\n",
       "  <thead>\n",
       "    <tr style=\"text-align: right;\">\n",
       "      <th></th>\n",
       "      <th>user_id</th>\n",
       "      <th>date</th>\n",
       "      <th>action</th>\n",
       "    </tr>\n",
       "  </thead>\n",
       "  <tbody>\n",
       "    <tr>\n",
       "      <th>0</th>\n",
       "      <td>4913</td>\n",
       "      <td>2014-12-01</td>\n",
       "      <td>1</td>\n",
       "    </tr>\n",
       "    <tr>\n",
       "      <th>1</th>\n",
       "      <td>4913</td>\n",
       "      <td>2014-12-07</td>\n",
       "      <td>2</td>\n",
       "    </tr>\n",
       "    <tr>\n",
       "      <th>2</th>\n",
       "      <td>4913</td>\n",
       "      <td>2014-12-11</td>\n",
       "      <td>1</td>\n",
       "    </tr>\n",
       "    <tr>\n",
       "      <th>3</th>\n",
       "      <td>4913</td>\n",
       "      <td>2014-12-13</td>\n",
       "      <td>1</td>\n",
       "    </tr>\n",
       "    <tr>\n",
       "      <th>4</th>\n",
       "      <td>4913</td>\n",
       "      <td>2014-12-16</td>\n",
       "      <td>1</td>\n",
       "    </tr>\n",
       "    <tr>\n",
       "      <th>5</th>\n",
       "      <td>6118</td>\n",
       "      <td>2014-12-17</td>\n",
       "      <td>1</td>\n",
       "    </tr>\n",
       "    <tr>\n",
       "      <th>6</th>\n",
       "      <td>7528</td>\n",
       "      <td>2014-11-22</td>\n",
       "      <td>1</td>\n",
       "    </tr>\n",
       "    <tr>\n",
       "      <th>7</th>\n",
       "      <td>7528</td>\n",
       "      <td>2014-11-26</td>\n",
       "      <td>1</td>\n",
       "    </tr>\n",
       "    <tr>\n",
       "      <th>8</th>\n",
       "      <td>7528</td>\n",
       "      <td>2014-11-27</td>\n",
       "      <td>1</td>\n",
       "    </tr>\n",
       "    <tr>\n",
       "      <th>9</th>\n",
       "      <td>7528</td>\n",
       "      <td>2014-11-30</td>\n",
       "      <td>1</td>\n",
       "    </tr>\n",
       "  </tbody>\n",
       "</table>\n",
       "</div>"
      ],
      "text/plain": [
       "   user_id       date  action\n",
       "0     4913 2014-12-01       1\n",
       "1     4913 2014-12-07       2\n",
       "2     4913 2014-12-11       1\n",
       "3     4913 2014-12-13       1\n",
       "4     4913 2014-12-16       1\n",
       "5     6118 2014-12-17       1\n",
       "6     7528 2014-11-22       1\n",
       "7     7528 2014-11-26       1\n",
       "8     7528 2014-11-27       1\n",
       "9     7528 2014-11-30       1"
      ]
     },
     "execution_count": 39,
     "metadata": {},
     "output_type": "execute_result"
    }
   ],
   "source": [
    "repay_user_period = datas[datas.behavior_type==4]\n",
    "# repay_user_period = repay_user_period.groupby(['user_id','date'])['behavior_type'].count()\n",
    "repay_user_period = repay_user_period.groupby(['user_id','date'])['action'].count()\n",
    "repay_user_period = repay_user_period.reset_index()\n",
    "repay_user_period.head(10)"
   ]
  },
  {
   "cell_type": "code",
   "execution_count": 40,
   "id": "5ae71a16",
   "metadata": {},
   "outputs": [
    {
     "data": {
      "text/plain": [
       "user_id    \n",
       "4913     1     6 days\n",
       "         2     4 days\n",
       "         3     2 days\n",
       "         4     3 days\n",
       "7528     7     4 days\n",
       "         8     1 days\n",
       "         9     3 days\n",
       "         10    3 days\n",
       "         11   10 days\n",
       "7591     13    7 days\n",
       "Name: date, dtype: timedelta64[ns]"
      ]
     },
     "execution_count": 40,
     "metadata": {},
     "output_type": "execute_result"
    }
   ],
   "source": [
    "repay_user_period_day = repay_user_period.groupby('user_id')['date'].apply(lambda x:x.sort_values().diff(1).dropna())\n",
    "repay_user_period_day.head(10)"
   ]
  },
  {
   "cell_type": "code",
   "execution_count": 41,
   "id": "6d77370c",
   "metadata": {},
   "outputs": [
    {
     "data": {
      "text/plain": [
       "1     14027\n",
       "2      7421\n",
       "3      4849\n",
       "4      3377\n",
       "5      2465\n",
       "6      1813\n",
       "7      1296\n",
       "8      1015\n",
       "9       769\n",
       "10      603\n",
       "Name: date, dtype: int64"
      ]
     },
     "execution_count": 41,
     "metadata": {},
     "output_type": "execute_result"
    }
   ],
   "source": [
    "repay_user_period_day1 = repay_user_period_day.apply(lambda x:x.days)\n",
    "repay_user_period_day1 = repay_user_period_day1.value_counts()\n",
    "repay_user_period_day1.head(10)"
   ]
  },
  {
   "cell_type": "code",
   "execution_count": 42,
   "id": "39c12955",
   "metadata": {},
   "outputs": [
    {
     "data": {
      "text/plain": [
       "(array([ 0,  1,  2,  3,  4,  5,  6,  7,  8,  9, 10, 11, 12, 13, 14, 15, 16,\n",
       "        17, 18, 19, 20, 21, 22, 23, 24, 25, 26, 27, 28, 29]),\n",
       " <a list of 30 Text xticklabel objects>)"
      ]
     },
     "execution_count": 42,
     "metadata": {},
     "output_type": "execute_result"
    },
    {
     "data": {
      "image/png": "[encoded data removed]",
      "text/plain": [
       "<Figure size 720x432 with 1 Axes>"
      ]
     },
     "metadata": {
      "needs_background": "light"
     },
     "output_type": "display_data"
    }
   ],
   "source": [
    "repay_user_period_day1.plot(kind='bar',figsize=(10, 6))\n",
    "plt.xticks(rotation=0)"
   ]
  },
  {
   "cell_type": "markdown",
   "id": "dfb2cbb5",
   "metadata": {},
   "source": [
    "**复购周期集中在6天以内（有2000人以上会在6天内进行复购）**"
   ]
  },
  {
   "cell_type": "markdown",
   "id": "37deedab",
   "metadata": {},
   "source": [
    "# 10.RFM分析"
   ]
  },
  {
   "cell_type": "code",
   "execution_count": 43,
   "id": "5626a549",
   "metadata": {},
   "outputs": [
    {
     "name": "stdout",
     "output_type": "stream",
     "text": [
      "user_id\n",
      "4913      4 days\n",
      "6118      3 days\n",
      "7528      7 days\n",
      "7591      7 days\n",
      "12645     6 days\n",
      "54056    13 days\n",
      "63348     9 days\n",
      "79824     4 days\n",
      "88930     3 days\n",
      "100539    4 days\n",
      "Name: date, dtype: timedelta64[ns]\n"
     ]
    }
   ],
   "source": [
    "nowdate = pd.to_datetime(\"2014-12-20\")\n",
    "buy_behavior = datas[datas[\"behavior_type\"]==4]\n",
    "recency = buy_behavior.groupby('user_id')['date'].apply(lambda x:nowdate - x.max())\n",
    "print(recency.head(10))"
   ]
  },
  {
   "cell_type": "code",
   "execution_count": 44,
   "id": "50d8301e",
   "metadata": {},
   "outputs": [
    {
     "data": {
      "text/plain": [
       "7"
      ]
     },
     "execution_count": 44,
     "metadata": {},
     "output_type": "execute_result"
    }
   ],
   "source": [
    "# 计算recency的平均值，用于衡量recency值的高低\n",
    "recency_average = recency.mean()\n",
    "recency_average = recency_average.days\n",
    "recency_average"
   ]
  },
  {
   "cell_type": "code",
   "execution_count": 45,
   "id": "8f1f810b",
   "metadata": {},
   "outputs": [
    {
     "data": {
      "text/plain": [
       "user_id\n",
       "4913       6\n",
       "6118       1\n",
       "7528       6\n",
       "7591      21\n",
       "12645      8\n",
       "54056      2\n",
       "63348      1\n",
       "79824     13\n",
       "88930     23\n",
       "100539    18\n",
       "Name: date, dtype: int64"
      ]
     },
     "execution_count": 45,
     "metadata": {},
     "output_type": "execute_result"
    }
   ],
   "source": [
    "frequency = buy_behavior.groupby('user_id')['date'].apply(lambda x:x.count())\n",
    "frequency.head(10)"
   ]
  },
  {
   "cell_type": "code",
   "execution_count": 46,
   "id": "d0a25551",
   "metadata": {},
   "outputs": [
    {
     "data": {
      "text/html": [
       "<div>\n",
       "<style scoped>\n",
       "    .dataframe tbody tr th:only-of-type {\n",
       "        vertical-align: middle;\n",
       "    }\n",
       "\n",
       "    .dataframe tbody tr th {\n",
       "        vertical-align: top;\n",
       "    }\n",
       "\n",
       "    .dataframe thead th {\n",
       "        text-align: right;\n",
       "    }\n",
       "</style>\n",
       "<table border=\"1\" class=\"dataframe\">\n",
       "  <thead>\n",
       "    <tr style=\"text-align: right;\">\n",
       "      <th></th>\n",
       "      <th>recency</th>\n",
       "      <th>frequency</th>\n",
       "    </tr>\n",
       "    <tr>\n",
       "      <th>user_id</th>\n",
       "      <th></th>\n",
       "      <th></th>\n",
       "    </tr>\n",
       "  </thead>\n",
       "  <tbody>\n",
       "    <tr>\n",
       "      <th>4913</th>\n",
       "      <td>4 days</td>\n",
       "      <td>6</td>\n",
       "    </tr>\n",
       "    <tr>\n",
       "      <th>6118</th>\n",
       "      <td>3 days</td>\n",
       "      <td>1</td>\n",
       "    </tr>\n",
       "    <tr>\n",
       "      <th>7528</th>\n",
       "      <td>7 days</td>\n",
       "      <td>6</td>\n",
       "    </tr>\n",
       "    <tr>\n",
       "      <th>7591</th>\n",
       "      <td>7 days</td>\n",
       "      <td>21</td>\n",
       "    </tr>\n",
       "    <tr>\n",
       "      <th>12645</th>\n",
       "      <td>6 days</td>\n",
       "      <td>8</td>\n",
       "    </tr>\n",
       "    <tr>\n",
       "      <th>54056</th>\n",
       "      <td>13 days</td>\n",
       "      <td>2</td>\n",
       "    </tr>\n",
       "    <tr>\n",
       "      <th>63348</th>\n",
       "      <td>9 days</td>\n",
       "      <td>1</td>\n",
       "    </tr>\n",
       "    <tr>\n",
       "      <th>79824</th>\n",
       "      <td>4 days</td>\n",
       "      <td>13</td>\n",
       "    </tr>\n",
       "    <tr>\n",
       "      <th>88930</th>\n",
       "      <td>3 days</td>\n",
       "      <td>23</td>\n",
       "    </tr>\n",
       "    <tr>\n",
       "      <th>100539</th>\n",
       "      <td>4 days</td>\n",
       "      <td>18</td>\n",
       "    </tr>\n",
       "  </tbody>\n",
       "</table>\n",
       "</div>"
      ],
      "text/plain": [
       "        recency  frequency\n",
       "user_id                   \n",
       "4913     4 days          6\n",
       "6118     3 days          1\n",
       "7528     7 days          6\n",
       "7591     7 days         21\n",
       "12645    6 days          8\n",
       "54056   13 days          2\n",
       "63348    9 days          1\n",
       "79824    4 days         13\n",
       "88930    3 days         23\n",
       "100539   4 days         18"
      ]
     },
     "execution_count": 46,
     "metadata": {},
     "output_type": "execute_result"
    }
   ],
   "source": [
    "datas_rfm = pd.merge(recency,frequency,left_on = 'user_id',right_on='user_id',how='outer')\n",
    "datas_rfm = datas_rfm.rename(columns={'date_x':'recency','date_y':'frequency'})\n",
    "datas_rfm.head(10)"
   ]
  },
  {
   "cell_type": "code",
   "execution_count": 47,
   "id": "e2757465",
   "metadata": {},
   "outputs": [
    {
     "data": {
      "text/html": [
       "<div>\n",
       "<style scoped>\n",
       "    .dataframe tbody tr th:only-of-type {\n",
       "        vertical-align: middle;\n",
       "    }\n",
       "\n",
       "    .dataframe tbody tr th {\n",
       "        vertical-align: top;\n",
       "    }\n",
       "\n",
       "    .dataframe thead th {\n",
       "        text-align: right;\n",
       "    }\n",
       "</style>\n",
       "<table border=\"1\" class=\"dataframe\">\n",
       "  <thead>\n",
       "    <tr style=\"text-align: right;\">\n",
       "      <th></th>\n",
       "      <th>recent_value</th>\n",
       "      <th>frequency_value</th>\n",
       "    </tr>\n",
       "    <tr>\n",
       "      <th>user_id</th>\n",
       "      <th></th>\n",
       "      <th></th>\n",
       "    </tr>\n",
       "  </thead>\n",
       "  <tbody>\n",
       "    <tr>\n",
       "      <th>4913</th>\n",
       "      <td>2</td>\n",
       "      <td>1</td>\n",
       "    </tr>\n",
       "    <tr>\n",
       "      <th>6118</th>\n",
       "      <td>2</td>\n",
       "      <td>1</td>\n",
       "    </tr>\n",
       "    <tr>\n",
       "      <th>7528</th>\n",
       "      <td>1</td>\n",
       "      <td>1</td>\n",
       "    </tr>\n",
       "    <tr>\n",
       "      <th>7591</th>\n",
       "      <td>1</td>\n",
       "      <td>2</td>\n",
       "    </tr>\n",
       "    <tr>\n",
       "      <th>12645</th>\n",
       "      <td>2</td>\n",
       "      <td>1</td>\n",
       "    </tr>\n",
       "    <tr>\n",
       "      <th>54056</th>\n",
       "      <td>1</td>\n",
       "      <td>1</td>\n",
       "    </tr>\n",
       "    <tr>\n",
       "      <th>63348</th>\n",
       "      <td>1</td>\n",
       "      <td>1</td>\n",
       "    </tr>\n",
       "    <tr>\n",
       "      <th>79824</th>\n",
       "      <td>2</td>\n",
       "      <td>2</td>\n",
       "    </tr>\n",
       "    <tr>\n",
       "      <th>88930</th>\n",
       "      <td>2</td>\n",
       "      <td>2</td>\n",
       "    </tr>\n",
       "    <tr>\n",
       "      <th>100539</th>\n",
       "      <td>2</td>\n",
       "      <td>2</td>\n",
       "    </tr>\n",
       "  </tbody>\n",
       "</table>\n",
       "</div>"
      ],
      "text/plain": [
       "        recent_value frequency_value\n",
       "user_id                             \n",
       "4913               2               1\n",
       "6118               2               1\n",
       "7528               1               1\n",
       "7591               1               2\n",
       "12645              2               1\n",
       "54056              1               1\n",
       "63348              1               1\n",
       "79824              2               2\n",
       "88930              2               2\n",
       "100539             2               2"
      ]
     },
     "execution_count": 47,
     "metadata": {},
     "output_type": "execute_result"
    }
   ],
   "source": [
    "datas_rfm['recent_value'] = pd.qcut(datas_rfm.recency,2,labels=['2','1'])\n",
    "datas_rfm['frequency_value'] = pd.qcut(datas_rfm.frequency,2,labels=['1','2'])\n",
    "datas_rfm = datas_rfm.drop(columns=['recency','frequency'])\n",
    "datas_rfm.head(10)"
   ]
  },
  {
   "cell_type": "markdown",
   "id": "daafb008",
   "metadata": {},
   "source": [
    "**由于没有金额数据，因此只能从recency和frequency两个维度进行分析。 </br>\n",
    "(recent_value, frequency_value)： </br>\n",
    "（2，2）为重要价值客户 </br>\n",
    "（1，2）为重要保持客户 </br>\n",
    "（2，1）为重要发展客户 </br>\n",
    "（1，1）为一般挽留客户**"
   ]
  },
  {
   "cell_type": "code",
   "execution_count": 48,
   "id": "afa73434",
   "metadata": {},
   "outputs": [
    {
     "data": {
      "text/html": [
       "<div>\n",
       "<style scoped>\n",
       "    .dataframe tbody tr th:only-of-type {\n",
       "        vertical-align: middle;\n",
       "    }\n",
       "\n",
       "    .dataframe tbody tr th {\n",
       "        vertical-align: top;\n",
       "    }\n",
       "\n",
       "    .dataframe thead th {\n",
       "        text-align: right;\n",
       "    }\n",
       "</style>\n",
       "<table border=\"1\" class=\"dataframe\">\n",
       "  <thead>\n",
       "    <tr style=\"text-align: right;\">\n",
       "      <th></th>\n",
       "      <th>recent_value</th>\n",
       "      <th>frequency_value</th>\n",
       "    </tr>\n",
       "    <tr>\n",
       "      <th>user_id</th>\n",
       "      <th></th>\n",
       "      <th></th>\n",
       "    </tr>\n",
       "  </thead>\n",
       "  <tbody>\n",
       "    <tr>\n",
       "      <th>79824</th>\n",
       "      <td>2</td>\n",
       "      <td>2</td>\n",
       "    </tr>\n",
       "    <tr>\n",
       "      <th>88930</th>\n",
       "      <td>2</td>\n",
       "      <td>2</td>\n",
       "    </tr>\n",
       "    <tr>\n",
       "      <th>100539</th>\n",
       "      <td>2</td>\n",
       "      <td>2</td>\n",
       "    </tr>\n",
       "    <tr>\n",
       "      <th>113960</th>\n",
       "      <td>2</td>\n",
       "      <td>2</td>\n",
       "    </tr>\n",
       "    <tr>\n",
       "      <th>151617</th>\n",
       "      <td>2</td>\n",
       "      <td>2</td>\n",
       "    </tr>\n",
       "  </tbody>\n",
       "</table>\n",
       "</div>"
      ],
      "text/plain": [
       "        recent_value frequency_value\n",
       "user_id                             \n",
       "79824              2               2\n",
       "88930              2               2\n",
       "100539             2               2\n",
       "113960             2               2\n",
       "151617             2               2"
      ]
     },
     "execution_count": 48,
     "metadata": {},
     "output_type": "execute_result"
    }
   ],
   "source": [
    "# （2，2）：重要价值用户\n",
    "important_valuable_customers = datas_rfm[(datas_rfm.recent_value == \"2\")&(datas_rfm.frequency_value == \"2\")]\n",
    "important_valuable_customers.head(5) #打印前5条数据"
   ]
  },
  {
   "cell_type": "code",
   "execution_count": 49,
   "id": "d25c0452",
   "metadata": {},
   "outputs": [
    {
     "data": {
      "text/html": [
       "<div>\n",
       "<style scoped>\n",
       "    .dataframe tbody tr th:only-of-type {\n",
       "        vertical-align: middle;\n",
       "    }\n",
       "\n",
       "    .dataframe tbody tr th {\n",
       "        vertical-align: top;\n",
       "    }\n",
       "\n",
       "    .dataframe thead th {\n",
       "        text-align: right;\n",
       "    }\n",
       "</style>\n",
       "<table border=\"1\" class=\"dataframe\">\n",
       "  <thead>\n",
       "    <tr style=\"text-align: right;\">\n",
       "      <th></th>\n",
       "      <th>recent_value</th>\n",
       "      <th>frequency_value</th>\n",
       "    </tr>\n",
       "    <tr>\n",
       "      <th>user_id</th>\n",
       "      <th></th>\n",
       "      <th></th>\n",
       "    </tr>\n",
       "  </thead>\n",
       "  <tbody>\n",
       "    <tr>\n",
       "      <th>7591</th>\n",
       "      <td>1</td>\n",
       "      <td>2</td>\n",
       "    </tr>\n",
       "    <tr>\n",
       "      <th>109103</th>\n",
       "      <td>1</td>\n",
       "      <td>2</td>\n",
       "    </tr>\n",
       "    <tr>\n",
       "      <th>156608</th>\n",
       "      <td>1</td>\n",
       "      <td>2</td>\n",
       "    </tr>\n",
       "    <tr>\n",
       "      <th>157097</th>\n",
       "      <td>1</td>\n",
       "      <td>2</td>\n",
       "    </tr>\n",
       "    <tr>\n",
       "      <th>250843</th>\n",
       "      <td>1</td>\n",
       "      <td>2</td>\n",
       "    </tr>\n",
       "  </tbody>\n",
       "</table>\n",
       "</div>"
      ],
      "text/plain": [
       "        recent_value frequency_value\n",
       "user_id                             \n",
       "7591               1               2\n",
       "109103             1               2\n",
       "156608             1               2\n",
       "157097             1               2\n",
       "250843             1               2"
      ]
     },
     "execution_count": 49,
     "metadata": {},
     "output_type": "execute_result"
    }
   ],
   "source": [
    "# （1，2）：重要保持客户\n",
    "important_keeping_customers = datas_rfm[(datas_rfm.recent_value == \"1\")&(datas_rfm.frequency_value == \"2\")]\n",
    "important_keeping_customers.head(5) #打印前5条数据"
   ]
  },
  {
   "cell_type": "code",
   "execution_count": 50,
   "id": "90690ccb",
   "metadata": {},
   "outputs": [
    {
     "data": {
      "text/html": [
       "<div>\n",
       "<style scoped>\n",
       "    .dataframe tbody tr th:only-of-type {\n",
       "        vertical-align: middle;\n",
       "    }\n",
       "\n",
       "    .dataframe tbody tr th {\n",
       "        vertical-align: top;\n",
       "    }\n",
       "\n",
       "    .dataframe thead th {\n",
       "        text-align: right;\n",
       "    }\n",
       "</style>\n",
       "<table border=\"1\" class=\"dataframe\">\n",
       "  <thead>\n",
       "    <tr style=\"text-align: right;\">\n",
       "      <th></th>\n",
       "      <th>recent_value</th>\n",
       "      <th>frequency_value</th>\n",
       "    </tr>\n",
       "    <tr>\n",
       "      <th>user_id</th>\n",
       "      <th></th>\n",
       "      <th></th>\n",
       "    </tr>\n",
       "  </thead>\n",
       "  <tbody>\n",
       "    <tr>\n",
       "      <th>4913</th>\n",
       "      <td>2</td>\n",
       "      <td>1</td>\n",
       "    </tr>\n",
       "    <tr>\n",
       "      <th>6118</th>\n",
       "      <td>2</td>\n",
       "      <td>1</td>\n",
       "    </tr>\n",
       "    <tr>\n",
       "      <th>12645</th>\n",
       "      <td>2</td>\n",
       "      <td>1</td>\n",
       "    </tr>\n",
       "    <tr>\n",
       "      <th>104155</th>\n",
       "      <td>2</td>\n",
       "      <td>1</td>\n",
       "    </tr>\n",
       "    <tr>\n",
       "      <th>120873</th>\n",
       "      <td>2</td>\n",
       "      <td>1</td>\n",
       "    </tr>\n",
       "  </tbody>\n",
       "</table>\n",
       "</div>"
      ],
      "text/plain": [
       "        recent_value frequency_value\n",
       "user_id                             \n",
       "4913               2               1\n",
       "6118               2               1\n",
       "12645              2               1\n",
       "104155             2               1\n",
       "120873             2               1"
      ]
     },
     "execution_count": 50,
     "metadata": {},
     "output_type": "execute_result"
    }
   ],
   "source": [
    "# （2，1）：重要发展客户\n",
    "important_developing_customers = datas_rfm[(datas_rfm.recent_value == \"2\")&(datas_rfm.frequency_value == \"1\")]\n",
    "important_developing_customers.head(5) #打印前5条数据"
   ]
  },
  {
   "cell_type": "code",
   "execution_count": 51,
   "id": "30ae6e1d",
   "metadata": {},
   "outputs": [
    {
     "data": {
      "text/html": [
       "<div>\n",
       "<style scoped>\n",
       "    .dataframe tbody tr th:only-of-type {\n",
       "        vertical-align: middle;\n",
       "    }\n",
       "\n",
       "    .dataframe tbody tr th {\n",
       "        vertical-align: top;\n",
       "    }\n",
       "\n",
       "    .dataframe thead th {\n",
       "        text-align: right;\n",
       "    }\n",
       "</style>\n",
       "<table border=\"1\" class=\"dataframe\">\n",
       "  <thead>\n",
       "    <tr style=\"text-align: right;\">\n",
       "      <th></th>\n",
       "      <th>recent_value</th>\n",
       "      <th>frequency_value</th>\n",
       "    </tr>\n",
       "    <tr>\n",
       "      <th>user_id</th>\n",
       "      <th></th>\n",
       "      <th></th>\n",
       "    </tr>\n",
       "  </thead>\n",
       "  <tbody>\n",
       "    <tr>\n",
       "      <th>7528</th>\n",
       "      <td>1</td>\n",
       "      <td>1</td>\n",
       "    </tr>\n",
       "    <tr>\n",
       "      <th>54056</th>\n",
       "      <td>1</td>\n",
       "      <td>1</td>\n",
       "    </tr>\n",
       "    <tr>\n",
       "      <th>63348</th>\n",
       "      <td>1</td>\n",
       "      <td>1</td>\n",
       "    </tr>\n",
       "    <tr>\n",
       "      <th>113251</th>\n",
       "      <td>1</td>\n",
       "      <td>1</td>\n",
       "    </tr>\n",
       "    <tr>\n",
       "      <th>134658</th>\n",
       "      <td>1</td>\n",
       "      <td>1</td>\n",
       "    </tr>\n",
       "  </tbody>\n",
       "</table>\n",
       "</div>"
      ],
      "text/plain": [
       "        recent_value frequency_value\n",
       "user_id                             \n",
       "7528               1               1\n",
       "54056              1               1\n",
       "63348              1               1\n",
       "113251             1               1\n",
       "134658             1               1"
      ]
     },
     "execution_count": 51,
     "metadata": {},
     "output_type": "execute_result"
    }
   ],
   "source": [
    "# （1，1）：一般挽留客户\n",
    "normal_valuable_customers = datas_rfm[(datas_rfm.recent_value == \"1\")&(datas_rfm.frequency_value == \"1\")]\n",
    "normal_valuable_customers.head(5) #打印前5条数据"
   ]
  },
  {
   "cell_type": "markdown",
   "id": "0a68b061",
   "metadata": {},
   "source": [
    "## 10.1 各种用户占比情况可视化"
   ]
  },
  {
   "cell_type": "code",
   "execution_count": 52,
   "id": "75b05b5c",
   "metadata": {},
   "outputs": [
    {
     "name": "stdout",
     "output_type": "stream",
     "text": [
      "                customers_count\n",
      "customers_type                 \n",
      "重要价值客户                     3179\n",
      "重要保持客户                     1219\n",
      "重要发展客户                     1721\n",
      "一般挽留客户                     2767\n"
     ]
    },
    {
     "data": {
      "text/plain": [
       "Text(0, 0.5, '')"
      ]
     },
     "execution_count": 52,
     "metadata": {},
     "output_type": "execute_result"
    },
    {
     "data": {
      "image/png": "[encoded data removed]",
      "text/plain": [
       "<Figure size 432x432 with 1 Axes>"
      ]
     },
     "metadata": {},
     "output_type": "display_data"
    }
   ],
   "source": [
    "customers_count = [len(important_valuable_customers),len(important_keeping_customers),len(important_developing_customers),len(normal_valuable_customers)]\n",
    "customers_type = [\"重要价值客户\",\"重要保持客户\",\"重要发展客户\",\"一般挽留客户\"]\n",
    "dic = {'customers_type':customers_type, 'customers_count': customers_count}\n",
    "customers = pd.DataFrame(dic)\n",
    "customers = customers.set_index(\"customers_type\")\n",
    "print(customers)\n",
    "explode = (0.1, 0, 0, 0)\n",
    "customers.plot(kind='pie',y='customers_count',autopct='%.1f%%', legend=False,fontsize=15,figsize=(6,6),wedgeprops = {'linewidth': 1.5, 'edgecolor':'grey'},explode=explode)\n",
    "plt.title('各类用户占比情况', fontsize=20, fontweight='bold')\n",
    "plt.ylabel('')"
   ]
  },
  {
   "cell_type": "markdown",
   "id": "285f9314",
   "metadata": {},
   "source": [
    "**从上方饼图可看出：</br>\n",
    "1.重要价值客户占比高达35.8%，可着重关注这类客户并进行进一步的研究分析。</br>\n",
    "2.其次是重要发展客户，占比接近20%，也是需要着重发展的一类客户。</br>\n",
    "3.重要保持客户占13.7%，占比最小，但用户价值大，是不可忽视的一部分。</br>\n",
    "4.最后是一般挽留客户，虽然这类用户价值较低，但其占比高达31.1%，可吸收利用该类用户的评价反馈用于改善经营情况。**"
   ]
  },
  {
   "cell_type": "markdown",
   "id": "d29b9ff3",
   "metadata": {},
   "source": [
    "# 11.商品销量统计"
   ]
  },
  {
   "cell_type": "code",
   "execution_count": 53,
   "id": "36730ec5",
   "metadata": {},
   "outputs": [
    {
     "data": {
      "text/html": [
       "<div>\n",
       "<style scoped>\n",
       "    .dataframe tbody tr th:only-of-type {\n",
       "        vertical-align: middle;\n",
       "    }\n",
       "\n",
       "    .dataframe tbody tr th {\n",
       "        vertical-align: top;\n",
       "    }\n",
       "\n",
       "    .dataframe thead th {\n",
       "        text-align: right;\n",
       "    }\n",
       "</style>\n",
       "<table border=\"1\" class=\"dataframe\">\n",
       "  <thead>\n",
       "    <tr style=\"text-align: right;\">\n",
       "      <th></th>\n",
       "      <th>item_category</th>\n",
       "      <th>sales</th>\n",
       "    </tr>\n",
       "  </thead>\n",
       "  <tbody>\n",
       "    <tr>\n",
       "      <th>0</th>\n",
       "      <td>6344</td>\n",
       "      <td>2208</td>\n",
       "    </tr>\n",
       "    <tr>\n",
       "      <th>1</th>\n",
       "      <td>1863</td>\n",
       "      <td>2000</td>\n",
       "    </tr>\n",
       "    <tr>\n",
       "      <th>2</th>\n",
       "      <td>5232</td>\n",
       "      <td>1611</td>\n",
       "    </tr>\n",
       "    <tr>\n",
       "      <th>3</th>\n",
       "      <td>6977</td>\n",
       "      <td>1324</td>\n",
       "    </tr>\n",
       "    <tr>\n",
       "      <th>4</th>\n",
       "      <td>8877</td>\n",
       "      <td>1072</td>\n",
       "    </tr>\n",
       "    <tr>\n",
       "      <th>5</th>\n",
       "      <td>6513</td>\n",
       "      <td>1059</td>\n",
       "    </tr>\n",
       "    <tr>\n",
       "      <th>6</th>\n",
       "      <td>5399</td>\n",
       "      <td>1054</td>\n",
       "    </tr>\n",
       "    <tr>\n",
       "      <th>7</th>\n",
       "      <td>3424</td>\n",
       "      <td>1053</td>\n",
       "    </tr>\n",
       "    <tr>\n",
       "      <th>8</th>\n",
       "      <td>3472</td>\n",
       "      <td>1038</td>\n",
       "    </tr>\n",
       "    <tr>\n",
       "      <th>9</th>\n",
       "      <td>7957</td>\n",
       "      <td>997</td>\n",
       "    </tr>\n",
       "  </tbody>\n",
       "</table>\n",
       "</div>"
      ],
      "text/plain": [
       "   item_category  sales \n",
       "0           6344    2208\n",
       "1           1863    2000\n",
       "2           5232    1611\n",
       "3           6977    1324\n",
       "4           8877    1072\n",
       "5           6513    1059\n",
       "6           5399    1054\n",
       "7           3424    1053\n",
       "8           3472    1038\n",
       "9           7957     997"
      ]
     },
     "execution_count": 53,
     "metadata": {},
     "output_type": "execute_result"
    }
   ],
   "source": [
    "goods_buy = datas[datas.behavior_type==4]\n",
    "goods_buy_count = goods_buy.groupby('item_category')['action'].count().sort_values(ascending=False)\n",
    "# 销量前10名的商品种类\n",
    "goods_buy_count.reset_index().rename(columns={'action':'sales '}).head(10)"
   ]
  },
  {
   "cell_type": "code",
   "execution_count": 54,
   "id": "1faffdfd",
   "metadata": {},
   "outputs": [
    {
     "data": {
      "text/plain": [
       "Text(0, 0.5, '销量')"
      ]
     },
     "execution_count": 54,
     "metadata": {},
     "output_type": "execute_result"
    },
    {
     "data": {
      "image/png": "[encoded data removed]",
      "text/plain": [
       "<Figure size 1080x360 with 1 Axes>"
      ]
     },
     "metadata": {
      "needs_background": "light"
     },
     "output_type": "display_data"
    }
   ],
   "source": [
    "goods_buy_count.head(30).plot(kind=\"bar\",x=\"item_category\",y=\"sales\",figsize=(15,5))\n",
    "plt.xticks(rotation=0)\n",
    "plt.xlabel('商品类目')\n",
    "plt.ylabel('销量',rotation=0)"
   ]
  },
  {
   "cell_type": "code",
   "execution_count": 55,
   "id": "f6af1f22",
   "metadata": {},
   "outputs": [
    {
     "data": {
      "text/html": [
       "<div>\n",
       "<style scoped>\n",
       "    .dataframe tbody tr th:only-of-type {\n",
       "        vertical-align: middle;\n",
       "    }\n",
       "\n",
       "    .dataframe tbody tr th {\n",
       "        vertical-align: top;\n",
       "    }\n",
       "\n",
       "    .dataframe thead th {\n",
       "        text-align: right;\n",
       "    }\n",
       "</style>\n",
       "<table border=\"1\" class=\"dataframe\">\n",
       "  <thead>\n",
       "    <tr style=\"text-align: right;\">\n",
       "      <th></th>\n",
       "      <th>item_id</th>\n",
       "      <th>sales</th>\n",
       "    </tr>\n",
       "  </thead>\n",
       "  <tbody>\n",
       "    <tr>\n",
       "      <th>0</th>\n",
       "      <td>303205878</td>\n",
       "      <td>50</td>\n",
       "    </tr>\n",
       "    <tr>\n",
       "      <th>1</th>\n",
       "      <td>14087919</td>\n",
       "      <td>35</td>\n",
       "    </tr>\n",
       "    <tr>\n",
       "      <th>2</th>\n",
       "      <td>115124482</td>\n",
       "      <td>31</td>\n",
       "    </tr>\n",
       "    <tr>\n",
       "      <th>3</th>\n",
       "      <td>243091690</td>\n",
       "      <td>29</td>\n",
       "    </tr>\n",
       "    <tr>\n",
       "      <th>4</th>\n",
       "      <td>167074648</td>\n",
       "      <td>28</td>\n",
       "    </tr>\n",
       "    <tr>\n",
       "      <th>5</th>\n",
       "      <td>109259240</td>\n",
       "      <td>24</td>\n",
       "    </tr>\n",
       "    <tr>\n",
       "      <th>6</th>\n",
       "      <td>127914633</td>\n",
       "      <td>24</td>\n",
       "    </tr>\n",
       "    <tr>\n",
       "      <th>7</th>\n",
       "      <td>101795752</td>\n",
       "      <td>23</td>\n",
       "    </tr>\n",
       "    <tr>\n",
       "      <th>8</th>\n",
       "      <td>374214353</td>\n",
       "      <td>23</td>\n",
       "    </tr>\n",
       "    <tr>\n",
       "      <th>9</th>\n",
       "      <td>17065447</td>\n",
       "      <td>22</td>\n",
       "    </tr>\n",
       "  </tbody>\n",
       "</table>\n",
       "</div>"
      ],
      "text/plain": [
       "     item_id  sales\n",
       "0  303205878     50\n",
       "1   14087919     35\n",
       "2  115124482     31\n",
       "3  243091690     29\n",
       "4  167074648     28\n",
       "5  109259240     24\n",
       "6  127914633     24\n",
       "7  101795752     23\n",
       "8  374214353     23\n",
       "9   17065447     22"
      ]
     },
     "execution_count": 55,
     "metadata": {},
     "output_type": "execute_result"
    }
   ],
   "source": [
    "# 销量前10名的商品\n",
    "goods_id = goods_buy.groupby('item_id')['action'].count().sort_values(ascending=False)\n",
    "goods_id.reset_index().rename(columns={'action':'sales'}).head(10)"
   ]
  },
  {
   "cell_type": "code",
   "execution_count": 56,
   "id": "9293974a",
   "metadata": {},
   "outputs": [
    {
     "data": {
      "text/plain": [
       "Text(0, 0.5, '销量')"
      ]
     },
     "execution_count": 56,
     "metadata": {},
     "output_type": "execute_result"
    },
    {
     "data": {
      "image/png": "[encoded data removed]",
      "text/plain": [
       "<Figure size 1080x360 with 1 Axes>"
      ]
     },
     "metadata": {
      "needs_background": "light"
     },
     "output_type": "display_data"
    }
   ],
   "source": [
    "goods_id.head(30).plot(kind=\"bar\",figsize=(15,5))\n",
    "plt.xticks(rotation=45)\n",
    "plt.xlabel('商品id')\n",
    "plt.ylabel('销量',rotation=0)"
   ]
  }
 ],
 "metadata": {
  "kernelspec": {
   "display_name": "Python 3",
   "language": "python",
   "name": "python3"
  },
  "language_info": {
   "codemirror_mode": {
    "name": "ipython",
    "version": 3
   },
   "file_extension": ".py",
   "mimetype": "text/x-python",
   "name": "python",
   "nbconvert_exporter": "python",
   "pygments_lexer": "ipython3",
   "version": "3.6.3"
  }
 },
 "nbformat": 4,
 "nbformat_minor": 5
}
